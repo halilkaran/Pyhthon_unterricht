{
 "cells": [
  {
   "cell_type": "code",
   "execution_count": 1,
   "metadata": {
    "colab": {
     "base_uri": "https://localhost:8080/"
    },
    "id": "vByW-t_NcjbS",
    "outputId": "819d3e04-791f-4993-fcbb-68f2b17bd1d0"
   },
   "outputs": [
    {
     "name": "stdout",
     "output_type": "stream",
     "text": [
      "hello world\n"
     ]
    }
   ],
   "source": [
    "print(\"hello world\")"
   ]
  },
  {
   "cell_type": "markdown",
   "metadata": {
    "id": "Ih6PFXN1cyvc"
   },
   "source": [
    "istediğm herşeyi yazarım"
   ]
  },
  {
   "cell_type": "code",
   "execution_count": 4,
   "metadata": {
    "colab": {
     "base_uri": "https://localhost:8080/"
    },
    "id": "KFIhFbuyc3kw",
    "outputId": "9dbf1857-440f-4900-cfa6-17b2e8285b91"
   },
   "outputs": [
    {
     "name": "stdout",
     "output_type": "stream",
     "text": [
      "merhaba\n"
     ]
    }
   ],
   "source": [
    "print(\"merhaba\")"
   ]
  },
  {
   "cell_type": "code",
   "execution_count": null,
   "metadata": {
    "id": "449A3hZXc-lE"
   },
   "outputs": [],
   "source": []
  },
  {
   "cell_type": "markdown",
   "metadata": {
    "id": "7Peoi2qhdMnp"
   },
   "source": [
    "ekranı merhaba yazdıran kod yazalım\n"
   ]
  },
  {
   "cell_type": "code",
   "execution_count": 5,
   "metadata": {
    "colab": {
     "base_uri": "https://localhost:8080/"
    },
    "id": "IP7ULIFOdNRs",
    "outputId": "efa4a4e6-87cf-4554-e1ff-86e6b4e8625b"
   },
   "outputs": [
    {
     "name": "stdout",
     "output_type": "stream",
     "text": [
      "Hello World!\n"
     ]
    }
   ],
   "source": [
    "print('Hello World!')\n"
   ]
  },
  {
   "cell_type": "code",
   "execution_count": 6,
   "metadata": {
    "colab": {
     "base_uri": "https://localhost:8080/",
     "height": 129
    },
    "id": "xnYKwZLblLlr",
    "outputId": "e9eec297-ffdc-4929-e62f-d7e182ad1e06"
   },
   "outputs": [
    {
     "ename": "SyntaxError",
     "evalue": "ignored",
     "output_type": "error",
     "traceback": [
      "\u001b[0;36m  File \u001b[0;32m\"<ipython-input-6-278f78f45249>\"\u001b[0;36m, line \u001b[0;32m1\u001b[0m\n\u001b[0;31m    print(\"hello world')\u001b[0m\n\u001b[0m                        ^\u001b[0m\n\u001b[0;31mSyntaxError\u001b[0m\u001b[0;31m:\u001b[0m EOL while scanning string literal\n"
     ]
    }
   ],
   "source": [
    "print(\"hello world')"
   ]
  },
  {
   "cell_type": "code",
   "execution_count": 7,
   "metadata": {
    "colab": {
     "base_uri": "https://localhost:8080/"
    },
    "id": "oOa-Q4MVnGuz",
    "outputId": "737edf00-d92e-4049-db5c-b3a7be0b4fc5"
   },
   "outputs": [
    {
     "name": "stdout",
     "output_type": "stream",
     "text": [
      "çiftle başladım çiftle bitirdim\n"
     ]
    }
   ],
   "source": [
    "print(\"çiftle başladım çiftle bitirdim\")"
   ]
  },
  {
   "cell_type": "code",
   "execution_count": 11,
   "metadata": {
    "colab": {
     "base_uri": "https://localhost:8080/",
     "height": 129
    },
    "id": "Lli5jY_LnQ7I",
    "outputId": "94329d36-dfc3-40c6-9d52-53ae4cfe0967"
   },
   "outputs": [
    {
     "ename": "SyntaxError",
     "evalue": "ignored",
     "output_type": "error",
     "traceback": [
      "\u001b[0;36m  File \u001b[0;32m\"<ipython-input-11-f109c6aa0476>\"\u001b[0;36m, line \u001b[0;32m1\u001b[0m\n\u001b[0;31m    print(\"benim adım andrew\u001b[0m\n\u001b[0m                                 ^\u001b[0m\n\u001b[0;31mSyntaxError\u001b[0m\u001b[0;31m:\u001b[0m EOL while scanning string literal\n"
     ]
    }
   ],
   "source": [
    "print(\"benim adım andrew     \n",
    " sizinle olmak çok güzel    \n",
    "   dersimiz iyi geçiyor\")"
   ]
  },
  {
   "cell_type": "code",
   "execution_count": 12,
   "metadata": {
    "colab": {
     "base_uri": "https://localhost:8080/"
    },
    "id": "EKJG4VVQnfGH",
    "outputId": "7d31b685-50ba-454e-fe94-1cc606d2e968"
   },
   "outputs": [
    {
     "name": "stdout",
     "output_type": "stream",
     "text": [
      "benim adım andrew\n",
      "      sizinle olmak çok güzel\n",
      "      dersimiz iyi geçiyor\n",
      "      istediğm kadar uzun yazabilirim\n"
     ]
    }
   ],
   "source": [
    "print(\"\"\"benim adım andrew\n",
    "      sizinle olmak çok güzel\n",
    "      dersimiz iyi geçiyor\n",
    "      istediğm kadar uzun yazabilirim\"\"\")"
   ]
  },
  {
   "cell_type": "code",
   "execution_count": 13,
   "metadata": {
    "colab": {
     "base_uri": "https://localhost:8080/"
    },
    "id": "PmnHyT1lnlek",
    "outputId": "88316252-aabb-48b6-b8b5-cffa668138d1"
   },
   "outputs": [
    {
     "name": "stdout",
     "output_type": "stream",
     "text": [
      "burada da\n",
      "istediğim\n",
      "kadar\n",
      "uzun \n",
      "yazabilirim.\n"
     ]
    }
   ],
   "source": [
    "print('''burada da\n",
    "istediğim\n",
    "kadar\n",
    "uzun \n",
    "yazabilirim.''')"
   ]
  },
  {
   "cell_type": "code",
   "execution_count": 14,
   "metadata": {
    "colab": {
     "base_uri": "https://localhost:8080/"
    },
    "id": "skzoZWeSn-Eg",
    "outputId": "4cfb5a86-3c8f-409a-edfa-19b2e6cae474"
   },
   "outputs": [
    {
     "name": "stdout",
     "output_type": "stream",
     "text": [
      "benim adım andrew 'I'm so happy'\n",
      "      sizinle olmak çok güzel\n",
      "      dersimiz iyi geçiyor\n",
      "      istediğm kadar uzun yazabilirim\n"
     ]
    }
   ],
   "source": [
    "print(\"\"\"benim adım andrew 'I'm so happy'\n",
    "      sizinle olmak çok güzel\n",
    "      dersimiz iyi geçiyor\n",
    "      istediğm kadar uzun yazabilirim\"\"\")"
   ]
  },
  {
   "cell_type": "code",
   "execution_count": 16,
   "metadata": {
    "colab": {
     "base_uri": "https://localhost:8080/"
    },
    "id": "l6j1WEzdoNZx",
    "outputId": "bd0d8f0c-c13f-4bc9-a417-d5eff135430d"
   },
   "outputs": [
    {
     "name": "stdout",
     "output_type": "stream",
     "text": [
      "benim adım andrew \"I'm so happy\"\n",
      "\n",
      "      sizinle olmak çok güzel\n",
      "      dersimiz iyi geçiyor\n",
      "      istediğm kadar uzun yazabilirim\n"
     ]
    }
   ],
   "source": [
    "print('''benim adım andrew \"I'm so happy\"\n",
    "\n",
    "      sizinle olmak çok güzel\n",
    "      dersimiz iyi geçiyor\n",
    "      istediğm kadar uzun yazabilirim''')"
   ]
  },
  {
   "cell_type": "code",
   "execution_count": 21,
   "metadata": {
    "colab": {
     "base_uri": "https://localhost:8080/"
    },
    "id": "C4BlYajSoWbY",
    "outputId": "5bbc31f2-ae2e-49bb-e028-034e77ad5b09"
   },
   "outputs": [
    {
     "name": "stdout",
     "output_type": "stream",
     "text": [
      "He said, \"I'm so happy\"\n"
     ]
    }
   ],
   "source": [
    "print(\"He said, \\\"I'm so happy\\\"\")"
   ]
  },
  {
   "cell_type": "code",
   "execution_count": 26,
   "metadata": {
    "colab": {
     "base_uri": "https://localhost:8080/",
     "height": 35
    },
    "id": "XSNDWIspo0A-",
    "outputId": "b927c1ea-01ba-4709-8302-a6d2973fe5b1"
   },
   "outputs": [
    {
     "data": {
      "application/vnd.google.colaboratory.intrinsic+json": {
       "type": "string"
      },
      "text/plain": [
       "\"I'm so happy\""
      ]
     },
     "execution_count": 26,
     "metadata": {},
     "output_type": "execute_result"
    }
   ],
   "source": [
    "\"Merhaba\"\n",
    "\"I'm so happy\""
   ]
  },
  {
   "cell_type": "code",
   "execution_count": 27,
   "metadata": {
    "colab": {
     "base_uri": "https://localhost:8080/"
    },
    "id": "EBMXliu1piXI",
    "outputId": "1a5e48c0-324f-4cfe-b11a-6dd2eee58c22"
   },
   "outputs": [
    {
     "name": "stdout",
     "output_type": "stream",
     "text": [
      "\"tek satır\"\n"
     ]
    }
   ],
   "source": [
    "print('''\"tek satır\"''')"
   ]
  },
  {
   "cell_type": "code",
   "execution_count": 28,
   "metadata": {
    "colab": {
     "base_uri": "https://localhost:8080/",
     "height": 129
    },
    "id": "aZt0vSCTp92q",
    "outputId": "397a14dc-f515-4a09-8d33-0ea3a341469b"
   },
   "outputs": [
    {
     "ename": "SyntaxError",
     "evalue": "ignored",
     "output_type": "error",
     "traceback": [
      "\u001b[0;36m  File \u001b[0;32m\"<ipython-input-28-64b1eecb54f2>\"\u001b[0;36m, line \u001b[0;32m1\u001b[0m\n\u001b[0;31m    \"\"metin\"\"\u001b[0m\n\u001b[0m          ^\u001b[0m\n\u001b[0;31mSyntaxError\u001b[0m\u001b[0;31m:\u001b[0m invalid syntax\n"
     ]
    }
   ],
   "source": [
    "\"\"metin\"\""
   ]
  },
  {
   "cell_type": "code",
   "execution_count": 3,
   "metadata": {
    "colab": {
     "base_uri": "https://localhost:8080/"
    },
    "id": "xJIMzNf4qStc",
    "outputId": "b24cd08a-ddba-4a02-d818-3fdbd06b42b3"
   },
   "outputs": [
    {
     "name": "stdout",
     "output_type": "stream",
     "text": [
      "ilk satır\n",
      "\n",
      "\n",
      "\n",
      "son satır\n"
     ]
    }
   ],
   "source": [
    "print(\"ilk satır\") \n",
    "print()\n",
    "print(\"\")\n",
    "print('''''')\n",
    "print('son satır')"
   ]
  },
  {
   "cell_type": "code",
   "execution_count": 33,
   "metadata": {
    "colab": {
     "base_uri": "https://localhost:8080/"
    },
    "id": "oCCkhudIqbnw",
    "outputId": "ad4cca6f-d7f7-4810-da4b-2870006ac75a"
   },
   "outputs": [
    {
     "name": "stdout",
     "output_type": "stream",
     "text": [
      "3.14\n"
     ]
    }
   ],
   "source": [
    "print(\"3.14\")"
   ]
  },
  {
   "cell_type": "code",
   "execution_count": 34,
   "metadata": {
    "colab": {
     "base_uri": "https://localhost:8080/"
    },
    "id": "oyI4dUAJq8ts",
    "outputId": "73111d45-5202-4b42-c955-ab55941bf070"
   },
   "outputs": [
    {
     "name": "stdout",
     "output_type": "stream",
     "text": [
      "3.14\n"
     ]
    }
   ],
   "source": [
    "print(3.14)"
   ]
  },
  {
   "cell_type": "code",
   "execution_count": 35,
   "metadata": {
    "colab": {
     "base_uri": "https://localhost:8080/"
    },
    "id": "l4jEnOROrBCi",
    "outputId": "c7298785-2f38-4e64-c2c4-2b9b4577cc1b"
   },
   "outputs": [
    {
     "name": "stdout",
     "output_type": "stream",
     "text": [
      "'We should have enough time for our family\"\n"
     ]
    }
   ],
   "source": [
    "print(''''We should have enough time for our family\"''')"
   ]
  },
  {
   "cell_type": "code",
   "execution_count": 41,
   "metadata": {
    "colab": {
     "base_uri": "https://localhost:8080/"
    },
    "id": "cSPoo_3vrqjP",
    "outputId": "2595ca20-0615-4b2d-a827-86c39efb9215"
   },
   "outputs": [
    {
     "name": "stdout",
     "output_type": "stream",
     "text": [
      "sizinle tanışmak güzel\n"
     ]
    }
   ],
   "source": [
    "# bu benim ilk açıklamam\n",
    "print(\"sizinle tanışmak güzel\")  "
   ]
  },
  {
   "cell_type": "code",
   "execution_count": 48,
   "metadata": {
    "colab": {
     "base_uri": "https://localhost:8080/"
    },
    "id": "ModQlt72xune",
    "outputId": "1395751f-0742-482f-f685-0d138c4b322d"
   },
   "outputs": [
    {
     "name": "stdout",
     "output_type": "stream",
     "text": [
      "hello\n"
     ]
    }
   ],
   "source": [
    "print(\"hello\")  # bu inline commenttir"
   ]
  },
  {
   "cell_type": "code",
   "execution_count": 47,
   "metadata": {
    "colab": {
     "base_uri": "https://localhost:8080/"
    },
    "id": "VQhQRFEHyFjh",
    "outputId": "45366b45-6365-47a6-c9d5-e23e8865c551"
   },
   "outputs": [
    {
     "name": "stdout",
     "output_type": "stream",
     "text": [
      "merhaba\n"
     ]
    }
   ],
   "source": [
    "print(\"merhaba\")\n",
    "# bu bir single-line commenttir"
   ]
  },
  {
   "cell_type": "code",
   "execution_count": 46,
   "metadata": {
    "id": "HAq5Dt3LySEx"
   },
   "outputs": [],
   "source": [
    "# bu açıklamanın birinci satırı\n",
    "# bu ikinci satır\n",
    "# bu üçüncü satır"
   ]
  },
  {
   "cell_type": "code",
   "execution_count": 49,
   "metadata": {
    "id": "XBtQ14yFybPA"
   },
   "outputs": [],
   "source": [
    "x = 35\n",
    "y = 22  # bu müşterimin ev sayısı\n",
    "#  buradaki x müşterinin kızının ev sayısı"
   ]
  },
  {
   "cell_type": "code",
   "execution_count": 50,
   "metadata": {
    "colab": {
     "base_uri": "https://localhost:8080/"
    },
    "id": "UOA4YpyHzzsm",
    "outputId": "e751dd2a-c95c-4eb8-972a-ee54fa5b3d50"
   },
   "outputs": [
    {
     "data": {
      "text/plain": [
       "8"
      ]
     },
     "execution_count": 50,
     "metadata": {},
     "output_type": "execute_result"
    }
   ],
   "source": [
    "3 + 5"
   ]
  },
  {
   "cell_type": "code",
   "execution_count": 51,
   "metadata": {
    "colab": {
     "base_uri": "https://localhost:8080/"
    },
    "id": "C_KzIrzVz6jz",
    "outputId": "1cd8baad-0dc8-45c5-b7cd-0224e6a60990"
   },
   "outputs": [
    {
     "name": "stdout",
     "output_type": "stream",
     "text": [
      "8\n"
     ]
    }
   ],
   "source": [
    "print(3+5)"
   ]
  },
  {
   "cell_type": "code",
   "execution_count": 52,
   "metadata": {
    "colab": {
     "base_uri": "https://localhost:8080/"
    },
    "id": "ugNGCM-6z-mq",
    "outputId": "a959d1ac-61ed-4218-9f58-9f9cd9b864ca"
   },
   "outputs": [
    {
     "name": "stdout",
     "output_type": "stream",
     "text": [
      "35\n"
     ]
    }
   ],
   "source": [
    "print(\"3\"+\"5\")"
   ]
  },
  {
   "cell_type": "code",
   "execution_count": 53,
   "metadata": {
    "id": "fNEMneKq0FLP"
   },
   "outputs": [],
   "source": [
    "# print(\"sizinle tanışmak güzeldi\")  # açıklama"
   ]
  },
  {
   "cell_type": "code",
   "execution_count": null,
   "metadata": {
    "id": "Q0Sy2Npu0R2p"
   },
   "outputs": [],
   "source": []
  }
 ],
 "metadata": {
  "colab": {
   "collapsed_sections": [],
   "name": "01_PythonBasic_12.10.2021.ipynb",
   "provenance": []
  },
  "kernelspec": {
   "display_name": "Python 3",
   "language": "python",
   "name": "python3"
  },
  "language_info": {
   "codemirror_mode": {
    "name": "ipython",
    "version": 3
   },
   "file_extension": ".py",
   "mimetype": "text/x-python",
   "name": "python",
   "nbconvert_exporter": "python",
   "pygments_lexer": "ipython3",
   "version": "3.8.5"
  }
 },
 "nbformat": 4,
 "nbformat_minor": 1
}
