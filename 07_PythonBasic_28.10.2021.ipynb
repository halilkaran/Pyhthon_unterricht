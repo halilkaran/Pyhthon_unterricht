{
 "cells": [
  {
   "cell_type": "markdown",
   "id": "ba31363e",
   "metadata": {},
   "source": [
    "<img src=\"https://docs.google.com/uc?id=14xeXxFrVRjvOoUYWn_GuyE-v84wVzrqr\" class=\"img-fluid\" alt=\"CLRWY\" width=\"1200\" height=\"200\">"
   ]
  },
  {
   "cell_type": "markdown",
   "id": "40039cde",
   "metadata": {},
   "source": [
    "<h1><p style=\"text-align: center; color:darkblue\">Python In-Class, <br>28 October 2021</p><h1>"
   ]
  },
  {
   "cell_type": "code",
   "execution_count": 17,
   "id": "04a9d704",
   "metadata": {},
   "outputs": [],
   "source": [
    "yil = \"2020's hard\""
   ]
  },
  {
   "cell_type": "code",
   "execution_count": 18,
   "id": "60bce06e",
   "metadata": {},
   "outputs": [],
   "source": [
    "yil_list = list(yil)"
   ]
  },
  {
   "cell_type": "code",
   "execution_count": 19,
   "id": "03761ee6",
   "metadata": {},
   "outputs": [
    {
     "data": {
      "text/plain": [
       "['2', '0', '2', '0', \"'\", 's', ' ', 'h', 'a', 'r', 'd']"
      ]
     },
     "execution_count": 19,
     "metadata": {},
     "output_type": "execute_result"
    }
   ],
   "source": [
    "yil_list"
   ]
  },
  {
   "cell_type": "code",
   "execution_count": 20,
   "id": "4a80d6ca",
   "metadata": {},
   "outputs": [
    {
     "data": {
      "text/plain": [
       "[1, 2, 3]"
      ]
     },
     "execution_count": 20,
     "metadata": {},
     "output_type": "execute_result"
    }
   ],
   "source": [
    "a = 1\n",
    "b = 2\n",
    "c = 3\n",
    "sayılar = [a, b, c]\n",
    "sayılar"
   ]
  },
  {
   "cell_type": "code",
   "execution_count": 22,
   "id": "2f5c1240",
   "metadata": {},
   "outputs": [
    {
     "data": {
      "text/plain": [
       "list"
      ]
     },
     "execution_count": 22,
     "metadata": {},
     "output_type": "execute_result"
    }
   ],
   "source": [
    "boş = list()\n",
    "type(boş)"
   ]
  },
  {
   "cell_type": "code",
   "execution_count": 30,
   "id": "8ef75959",
   "metadata": {},
   "outputs": [
    {
     "data": {
      "text/plain": [
       "True"
      ]
     },
     "execution_count": 30,
     "metadata": {},
     "output_type": "execute_result"
    }
   ],
   "source": [
    "cumle1 = \"merhaba, benim adım Andrew\".split(\" \")\n",
    "cumle2 = \"merhaba, benim adım Andrew\".split()\n",
    "cumle1 == cumle2"
   ]
  },
  {
   "cell_type": "code",
   "execution_count": 26,
   "id": "9725a847",
   "metadata": {},
   "outputs": [
    {
     "name": "stdout",
     "output_type": "stream",
     "text": [
      "m-e-r-h-a-b-a-,- -b-e-n-i-m- -a-d-ı-m- -A-n-d-r-e-w\n"
     ]
    }
   ],
   "source": [
    "print(*\"merhaba, benim adım Andrew\", sep=\"-\")"
   ]
  },
  {
   "cell_type": "code",
   "execution_count": 28,
   "id": "8f2d67db",
   "metadata": {},
   "outputs": [
    {
     "data": {
      "text/plain": [
       "4"
      ]
     },
     "execution_count": 28,
     "metadata": {},
     "output_type": "execute_result"
    }
   ],
   "source": [
    "cumle = \"merhaba, benim adım Andrew\".split(\"a\")\n",
    "len(cumle)"
   ]
  },
  {
   "cell_type": "code",
   "execution_count": 31,
   "id": "eecb41d1",
   "metadata": {},
   "outputs": [
    {
     "data": {
      "text/plain": [
       "[]"
      ]
     },
     "execution_count": 31,
     "metadata": {},
     "output_type": "execute_result"
    }
   ],
   "source": [
    "boş1 = list()\n",
    "boş1"
   ]
  },
  {
   "cell_type": "code",
   "execution_count": 32,
   "id": "08c25019",
   "metadata": {},
   "outputs": [
    {
     "data": {
      "text/plain": [
       "[]"
      ]
     },
     "execution_count": 32,
     "metadata": {},
     "output_type": "execute_result"
    }
   ],
   "source": [
    "boş2 = []\n",
    "boş2"
   ]
  },
  {
   "cell_type": "code",
   "execution_count": 33,
   "id": "50bc3513",
   "metadata": {},
   "outputs": [
    {
     "ename": "TypeError",
     "evalue": "'int' object is not iterable",
     "output_type": "error",
     "traceback": [
      "\u001b[1;31m---------------------------------------------------------------------------\u001b[0m",
      "\u001b[1;31mTypeError\u001b[0m                                 Traceback (most recent call last)",
      "\u001b[1;32m<ipython-input-33-8ec0ef46a827>\u001b[0m in \u001b[0;36m<module>\u001b[1;34m\u001b[0m\n\u001b[1;32m----> 1\u001b[1;33m \u001b[0minte\u001b[0m \u001b[1;33m=\u001b[0m \u001b[0mlist\u001b[0m\u001b[1;33m(\u001b[0m\u001b[1;36m1243\u001b[0m\u001b[1;33m)\u001b[0m\u001b[1;33m\u001b[0m\u001b[1;33m\u001b[0m\u001b[0m\n\u001b[0m\u001b[0;32m      2\u001b[0m \u001b[0minte\u001b[0m\u001b[1;33m\u001b[0m\u001b[1;33m\u001b[0m\u001b[0m\n",
      "\u001b[1;31mTypeError\u001b[0m: 'int' object is not iterable"
     ]
    }
   ],
   "source": [
    "inte = list(1243)\n",
    "inte"
   ]
  },
  {
   "cell_type": "code",
   "execution_count": 34,
   "id": "87abb24a",
   "metadata": {},
   "outputs": [
    {
     "data": {
      "text/plain": [
       "[1234]"
      ]
     },
     "execution_count": 34,
     "metadata": {},
     "output_type": "execute_result"
    }
   ],
   "source": [
    "inte = [1234]\n",
    "inte"
   ]
  },
  {
   "cell_type": "code",
   "execution_count": 35,
   "id": "4d6adf89",
   "metadata": {},
   "outputs": [],
   "source": [
    "iterable = list([1, 2, 3])"
   ]
  },
  {
   "cell_type": "code",
   "execution_count": 36,
   "id": "74fe2403",
   "metadata": {},
   "outputs": [
    {
     "data": {
      "text/plain": [
       "[1, 2, 3]"
      ]
     },
     "execution_count": 36,
     "metadata": {},
     "output_type": "execute_result"
    }
   ],
   "source": [
    "iterable"
   ]
  },
  {
   "cell_type": "code",
   "execution_count": 37,
   "id": "df687ff8",
   "metadata": {},
   "outputs": [
    {
     "data": {
      "text/plain": [
       "1"
      ]
     },
     "execution_count": 37,
     "metadata": {},
     "output_type": "execute_result"
    }
   ],
   "source": [
    "yil = \"2020's hard\"\n",
    "yeni_yıl = [yil]\n",
    "len(yeni_yıl)"
   ]
  },
  {
   "cell_type": "code",
   "execution_count": null,
   "id": "fa531e0c",
   "metadata": {},
   "outputs": [],
   "source": [
    "[]."
   ]
  },
  {
   "cell_type": "code",
   "execution_count": null,
   "id": "5013e39d",
   "metadata": {},
   "outputs": [],
   "source": [
    "\"\"."
   ]
  },
  {
   "cell_type": "code",
   "execution_count": 38,
   "id": "3dc061d0",
   "metadata": {},
   "outputs": [
    {
     "data": {
      "text/plain": [
       "['__add__',\n",
       " '__class__',\n",
       " '__contains__',\n",
       " '__delattr__',\n",
       " '__delitem__',\n",
       " '__dir__',\n",
       " '__doc__',\n",
       " '__eq__',\n",
       " '__format__',\n",
       " '__ge__',\n",
       " '__getattribute__',\n",
       " '__getitem__',\n",
       " '__gt__',\n",
       " '__hash__',\n",
       " '__iadd__',\n",
       " '__imul__',\n",
       " '__init__',\n",
       " '__init_subclass__',\n",
       " '__iter__',\n",
       " '__le__',\n",
       " '__len__',\n",
       " '__lt__',\n",
       " '__mul__',\n",
       " '__ne__',\n",
       " '__new__',\n",
       " '__reduce__',\n",
       " '__reduce_ex__',\n",
       " '__repr__',\n",
       " '__reversed__',\n",
       " '__rmul__',\n",
       " '__setattr__',\n",
       " '__setitem__',\n",
       " '__sizeof__',\n",
       " '__str__',\n",
       " '__subclasshook__',\n",
       " 'append',\n",
       " 'clear',\n",
       " 'copy',\n",
       " 'count',\n",
       " 'extend',\n",
       " 'index',\n",
       " 'insert',\n",
       " 'pop',\n",
       " 'remove',\n",
       " 'reverse',\n",
       " 'sort']"
      ]
     },
     "execution_count": 38,
     "metadata": {},
     "output_type": "execute_result"
    }
   ],
   "source": [
    "dir([])"
   ]
  },
  {
   "cell_type": "code",
   "execution_count": 39,
   "id": "acf0750d",
   "metadata": {},
   "outputs": [
    {
     "data": {
      "text/plain": [
       "'Append object to the end of the list.'"
      ]
     },
     "execution_count": 39,
     "metadata": {},
     "output_type": "execute_result"
    }
   ],
   "source": [
    "[].append.__doc__"
   ]
  },
  {
   "cell_type": "code",
   "execution_count": 40,
   "id": "2bf43daf",
   "metadata": {},
   "outputs": [
    {
     "data": {
      "text/plain": [
       "[11]"
      ]
     },
     "execution_count": 40,
     "metadata": {},
     "output_type": "execute_result"
    }
   ],
   "source": [
    "listem = []\n",
    "listem.append(11)\n",
    "listem"
   ]
  },
  {
   "cell_type": "code",
   "execution_count": 16,
   "id": "bf470c30",
   "metadata": {},
   "outputs": [
    {
     "data": {
      "text/plain": [
       "\"['v', 'e', 'l', 'i']\""
      ]
     },
     "execution_count": 16,
     "metadata": {},
     "output_type": "execute_result"
    }
   ],
   "source": [
    "kardeşler =[\"ali\", \"velika\"]\n",
    "kardeşler[0] = \"ayı\"\n",
    "list(kardeşler[1])"
   ]
  },
  {
   "cell_type": "code",
   "execution_count": 42,
   "id": "ef53e4b7",
   "metadata": {},
   "outputs": [
    {
     "data": {
      "text/plain": [
       "['ali', 'veli', 'ahmet']"
      ]
     },
     "execution_count": 42,
     "metadata": {},
     "output_type": "execute_result"
    }
   ],
   "source": [
    "kardeşler.append(\"ahmet\")\n",
    "kardeşler"
   ]
  },
  {
   "cell_type": "code",
   "execution_count": 43,
   "id": "8ce7fbf3",
   "metadata": {},
   "outputs": [
    {
     "data": {
      "text/plain": [
       "['ali', 'veli', 'ahmet', True]"
      ]
     },
     "execution_count": 43,
     "metadata": {},
     "output_type": "execute_result"
    }
   ],
   "source": [
    "kardeşler.append(True)\n",
    "kardeşler"
   ]
  },
  {
   "cell_type": "code",
   "execution_count": 44,
   "id": "3d81c444",
   "metadata": {},
   "outputs": [
    {
     "data": {
      "text/plain": [
       "['ali', 'veli', 'ahmet', True, 3.14]"
      ]
     },
     "execution_count": 44,
     "metadata": {},
     "output_type": "execute_result"
    }
   ],
   "source": [
    "kardeşler.append(3.14)\n",
    "kardeşler"
   ]
  },
  {
   "cell_type": "code",
   "execution_count": 45,
   "id": "265ce89c",
   "metadata": {},
   "outputs": [
    {
     "data": {
      "text/plain": [
       "['ali', 'veli', 'ahmet', True]"
      ]
     },
     "execution_count": 45,
     "metadata": {},
     "output_type": "execute_result"
    }
   ],
   "source": [
    "kardeşler.pop()\n",
    "kardeşler"
   ]
  },
  {
   "cell_type": "code",
   "execution_count": 46,
   "id": "2352bfca",
   "metadata": {},
   "outputs": [
    {
     "data": {
      "text/plain": [
       "'Remove and return item at index (default last).\\n\\nRaises IndexError if list is empty or index is out of range.'"
      ]
     },
     "execution_count": 46,
     "metadata": {},
     "output_type": "execute_result"
    }
   ],
   "source": [
    "list.pop.__doc__"
   ]
  },
  {
   "cell_type": "code",
   "execution_count": 48,
   "id": "64a458ac",
   "metadata": {},
   "outputs": [
    {
     "data": {
      "text/plain": [
       "['ali', True]"
      ]
     },
     "execution_count": 48,
     "metadata": {},
     "output_type": "execute_result"
    }
   ],
   "source": [
    "test = kardeşler.pop(1)\n",
    "kardeşler"
   ]
  },
  {
   "cell_type": "code",
   "execution_count": null,
   "id": "ebb5f873",
   "metadata": {},
   "outputs": [],
   "source": [
    "kardeşler.pop(1)"
   ]
  },
  {
   "cell_type": "code",
   "execution_count": 49,
   "id": "dc838e37",
   "metadata": {},
   "outputs": [
    {
     "data": {
      "text/plain": [
       "'ahmet'"
      ]
     },
     "execution_count": 49,
     "metadata": {},
     "output_type": "execute_result"
    }
   ],
   "source": [
    "test"
   ]
  },
  {
   "cell_type": "code",
   "execution_count": 50,
   "id": "fc56c6f5",
   "metadata": {},
   "outputs": [
    {
     "data": {
      "text/plain": [
       "['ali', True]"
      ]
     },
     "execution_count": 50,
     "metadata": {},
     "output_type": "execute_result"
    }
   ],
   "source": [
    "kardeşler"
   ]
  },
  {
   "cell_type": "code",
   "execution_count": 51,
   "id": "cad2f584",
   "metadata": {},
   "outputs": [
    {
     "ename": "TypeError",
     "evalue": "'str' object cannot be interpreted as an integer",
     "output_type": "error",
     "traceback": [
      "\u001b[1;31m---------------------------------------------------------------------------\u001b[0m",
      "\u001b[1;31mTypeError\u001b[0m                                 Traceback (most recent call last)",
      "\u001b[1;32m<ipython-input-51-abd9982aa761>\u001b[0m in \u001b[0;36m<module>\u001b[1;34m\u001b[0m\n\u001b[1;32m----> 1\u001b[1;33m \u001b[0mkardeşler\u001b[0m\u001b[1;33m.\u001b[0m\u001b[0mpop\u001b[0m\u001b[1;33m(\u001b[0m\u001b[1;34m\"ali\"\u001b[0m\u001b[1;33m)\u001b[0m\u001b[1;33m\u001b[0m\u001b[1;33m\u001b[0m\u001b[0m\n\u001b[0m",
      "\u001b[1;31mTypeError\u001b[0m: 'str' object cannot be interpreted as an integer"
     ]
    }
   ],
   "source": [
    "kardeşler.pop(\"ali\")"
   ]
  },
  {
   "cell_type": "code",
   "execution_count": 52,
   "id": "4f305c9f",
   "metadata": {},
   "outputs": [
    {
     "ename": "IndexError",
     "evalue": "pop index out of range",
     "output_type": "error",
     "traceback": [
      "\u001b[1;31m---------------------------------------------------------------------------\u001b[0m",
      "\u001b[1;31mIndexError\u001b[0m                                Traceback (most recent call last)",
      "\u001b[1;32m<ipython-input-52-0cc32c76f54b>\u001b[0m in \u001b[0;36m<module>\u001b[1;34m\u001b[0m\n\u001b[1;32m----> 1\u001b[1;33m \u001b[0mkardeşler\u001b[0m\u001b[1;33m.\u001b[0m\u001b[0mpop\u001b[0m\u001b[1;33m(\u001b[0m\u001b[1;36m2\u001b[0m\u001b[1;33m)\u001b[0m\u001b[1;33m\u001b[0m\u001b[1;33m\u001b[0m\u001b[0m\n\u001b[0m",
      "\u001b[1;31mIndexError\u001b[0m: pop index out of range"
     ]
    }
   ],
   "source": [
    "kardeşler.pop(2)"
   ]
  },
  {
   "cell_type": "code",
   "execution_count": 57,
   "id": "892ed873",
   "metadata": {},
   "outputs": [
    {
     "name": "stdout",
     "output_type": "stream",
     "text": [
      "<class 'float'>\n"
     ]
    },
    {
     "data": {
      "text/plain": [
       "[True, 'ahmet']"
      ]
     },
     "execution_count": 57,
     "metadata": {},
     "output_type": "execute_result"
    }
   ],
   "source": [
    "listem = [True, 3.14, \"ahmet\"]\n",
    "değişken = type(listem.pop(1))\n",
    "print(değişken)\n",
    "listem"
   ]
  },
  {
   "cell_type": "code",
   "execution_count": 58,
   "id": "f8d68c25",
   "metadata": {},
   "outputs": [
    {
     "data": {
      "text/plain": [
       "'Append object to the end of the list.'"
      ]
     },
     "execution_count": 58,
     "metadata": {},
     "output_type": "execute_result"
    }
   ],
   "source": [
    "list.append.__doc__"
   ]
  },
  {
   "cell_type": "code",
   "execution_count": 67,
   "id": "2bd843cb",
   "metadata": {},
   "outputs": [],
   "source": [
    "sayilar = [1, 2, 3, 4]\n",
    "sayilar.append(5)"
   ]
  },
  {
   "cell_type": "code",
   "execution_count": 68,
   "id": "b507dbd7",
   "metadata": {},
   "outputs": [
    {
     "data": {
      "text/plain": [
       "[1, 2, 3, 4, 5]"
      ]
     },
     "execution_count": 68,
     "metadata": {},
     "output_type": "execute_result"
    }
   ],
   "source": [
    "sayilar"
   ]
  },
  {
   "cell_type": "code",
   "execution_count": 69,
   "id": "c016a77c",
   "metadata": {},
   "outputs": [
    {
     "name": "stdout",
     "output_type": "stream",
     "text": [
      "5\n"
     ]
    }
   ],
   "source": [
    "print(sayilar.pop())"
   ]
  },
  {
   "cell_type": "code",
   "execution_count": 62,
   "id": "c9266a5f",
   "metadata": {},
   "outputs": [
    {
     "data": {
      "text/plain": [
       "[1, 2, 3, 4]"
      ]
     },
     "execution_count": 62,
     "metadata": {},
     "output_type": "execute_result"
    }
   ],
   "source": [
    "sayilar"
   ]
  },
  {
   "cell_type": "code",
   "execution_count": 75,
   "id": "65c62cdd",
   "metadata": {},
   "outputs": [],
   "source": [
    "sayilar = sayilar + [6]"
   ]
  },
  {
   "cell_type": "code",
   "execution_count": 72,
   "id": "8dd8042c",
   "metadata": {},
   "outputs": [
    {
     "data": {
      "text/plain": [
       "[1, 2, 3, 4]"
      ]
     },
     "execution_count": 72,
     "metadata": {},
     "output_type": "execute_result"
    }
   ],
   "source": [
    "[1, 2].__add__([3, 4])"
   ]
  },
  {
   "cell_type": "code",
   "execution_count": 73,
   "id": "ba0bd580",
   "metadata": {},
   "outputs": [
    {
     "data": {
      "text/plain": [
       "4"
      ]
     },
     "execution_count": 73,
     "metadata": {},
     "output_type": "execute_result"
    }
   ],
   "source": [
    "len(sayilar)"
   ]
  },
  {
   "cell_type": "code",
   "execution_count": 74,
   "id": "5c245e8b",
   "metadata": {},
   "outputs": [
    {
     "data": {
      "text/plain": [
       "4"
      ]
     },
     "execution_count": 74,
     "metadata": {},
     "output_type": "execute_result"
    }
   ],
   "source": [
    "sayilar.__len__()"
   ]
  },
  {
   "cell_type": "code",
   "execution_count": 76,
   "id": "7a8cc460",
   "metadata": {},
   "outputs": [
    {
     "data": {
      "text/plain": [
       "'Insert object before index.'"
      ]
     },
     "execution_count": 76,
     "metadata": {},
     "output_type": "execute_result"
    }
   ],
   "source": [
    "list.insert.__doc__"
   ]
  },
  {
   "cell_type": "code",
   "execution_count": 77,
   "id": "11fee57b",
   "metadata": {},
   "outputs": [
    {
     "data": {
      "text/plain": [
       "[1, 2, 3, 4, 6]"
      ]
     },
     "execution_count": 77,
     "metadata": {},
     "output_type": "execute_result"
    }
   ],
   "source": [
    "sayilar"
   ]
  },
  {
   "cell_type": "code",
   "execution_count": 78,
   "id": "618d8a90",
   "metadata": {},
   "outputs": [],
   "source": [
    "numbers = [1, 2, 3, 4]"
   ]
  },
  {
   "cell_type": "code",
   "execution_count": 79,
   "id": "34e5bbb3",
   "metadata": {},
   "outputs": [
    {
     "data": {
      "text/plain": [
       "[1, 2, 3, 4]"
      ]
     },
     "execution_count": 79,
     "metadata": {},
     "output_type": "execute_result"
    }
   ],
   "source": [
    "numbers"
   ]
  },
  {
   "cell_type": "code",
   "execution_count": 80,
   "id": "f7a8b17c",
   "metadata": {},
   "outputs": [],
   "source": [
    "numbers.insert(len(numbers), 5)"
   ]
  },
  {
   "cell_type": "code",
   "execution_count": 81,
   "id": "3f0561f7",
   "metadata": {},
   "outputs": [
    {
     "data": {
      "text/plain": [
       "[1, 2, 3, 4, 5]"
      ]
     },
     "execution_count": 81,
     "metadata": {},
     "output_type": "execute_result"
    }
   ],
   "source": [
    "numbers"
   ]
  },
  {
   "cell_type": "code",
   "execution_count": 82,
   "id": "2fc03974",
   "metadata": {},
   "outputs": [],
   "source": [
    "numbers.insert(10, 6)"
   ]
  },
  {
   "cell_type": "code",
   "execution_count": 83,
   "id": "253e2dcf",
   "metadata": {},
   "outputs": [
    {
     "data": {
      "text/plain": [
       "[1, 2, 3, 4, 5, 6]"
      ]
     },
     "execution_count": 83,
     "metadata": {},
     "output_type": "execute_result"
    }
   ],
   "source": [
    "numbers"
   ]
  },
  {
   "cell_type": "code",
   "execution_count": 84,
   "id": "24f8ffa1",
   "metadata": {},
   "outputs": [
    {
     "data": {
      "text/plain": [
       "[1, 2, 3, 4, 5, 7, 6]"
      ]
     },
     "execution_count": 84,
     "metadata": {},
     "output_type": "execute_result"
    }
   ],
   "source": [
    "numbers.insert(5, 7)\n",
    "numbers"
   ]
  },
  {
   "cell_type": "code",
   "execution_count": 85,
   "id": "12bf79e5",
   "metadata": {},
   "outputs": [
    {
     "data": {
      "text/plain": [
       "[1, 2, 3, 4, 5, 7, 8, 6]"
      ]
     },
     "execution_count": 85,
     "metadata": {},
     "output_type": "execute_result"
    }
   ],
   "source": [
    "numbers.insert(-1, 8)\n",
    "numbers"
   ]
  },
  {
   "cell_type": "code",
   "execution_count": 86,
   "id": "a0efbfcd",
   "metadata": {},
   "outputs": [
    {
     "data": {
      "text/plain": [
       "'Remove first occurrence of value.\\n\\nRaises ValueError if the value is not present.'"
      ]
     },
     "execution_count": 86,
     "metadata": {},
     "output_type": "execute_result"
    }
   ],
   "source": [
    "list.remove.__doc__"
   ]
  },
  {
   "cell_type": "code",
   "execution_count": 88,
   "id": "77cd364d",
   "metadata": {},
   "outputs": [
    {
     "data": {
      "text/plain": [
       "[1, '3', 2, 4, 5, 6, 'ali', 'veli']"
      ]
     },
     "execution_count": 88,
     "metadata": {},
     "output_type": "execute_result"
    }
   ],
   "source": [
    "numbers = [1, \"3\", 2, 3, 4, 5, 6, \"ali\", \"veli\"]\n",
    "numbers.remove(3)\n",
    "numbers"
   ]
  },
  {
   "cell_type": "code",
   "execution_count": 89,
   "id": "fc78de7a",
   "metadata": {},
   "outputs": [
    {
     "data": {
      "text/plain": [
       "[1, '3', 2, 3, 4, 5, 2, 6, 'ali', 'veli']"
      ]
     },
     "execution_count": 89,
     "metadata": {},
     "output_type": "execute_result"
    }
   ],
   "source": [
    "numbers = [1, \"3\", 2, 2, 3, 4, 5, 2, 6, \"ali\", \"veli\"]\n",
    "numbers.remove(2)\n",
    "numbers"
   ]
  },
  {
   "cell_type": "code",
   "execution_count": 90,
   "id": "88b6a971",
   "metadata": {},
   "outputs": [
    {
     "data": {
      "text/plain": [
       "97"
      ]
     },
     "execution_count": 90,
     "metadata": {},
     "output_type": "execute_result"
    }
   ],
   "source": [
    "ord(\"a\")"
   ]
  },
  {
   "cell_type": "code",
   "execution_count": 91,
   "id": "b80c737a",
   "metadata": {},
   "outputs": [
    {
     "data": {
      "text/plain": [
       "90"
      ]
     },
     "execution_count": 91,
     "metadata": {},
     "output_type": "execute_result"
    }
   ],
   "source": [
    "ord(\"Z\")"
   ]
  },
  {
   "cell_type": "code",
   "execution_count": 92,
   "id": "af06932d",
   "metadata": {},
   "outputs": [
    {
     "data": {
      "text/plain": [
       "'Z'"
      ]
     },
     "execution_count": 92,
     "metadata": {},
     "output_type": "execute_result"
    }
   ],
   "source": [
    "chr(90)"
   ]
  },
  {
   "cell_type": "code",
   "execution_count": 98,
   "id": "a88e2421",
   "metadata": {},
   "outputs": [
    {
     "data": {
      "text/plain": [
       "'\\U0001adb0'"
      ]
     },
     "execution_count": 98,
     "metadata": {},
     "output_type": "execute_result"
    }
   ],
   "source": [
    "chr(110000)"
   ]
  },
  {
   "cell_type": "code",
   "execution_count": 99,
   "id": "6ae8d019",
   "metadata": {},
   "outputs": [
    {
     "data": {
      "text/plain": [
       "'𝓀'"
      ]
     },
     "execution_count": 99,
     "metadata": {},
     "output_type": "execute_result"
    }
   ],
   "source": [
    "chr(120000)"
   ]
  },
  {
   "cell_type": "code",
   "execution_count": 101,
   "id": "ce75a549",
   "metadata": {},
   "outputs": [
    {
     "ename": "ValueError",
     "evalue": "chr() arg not in range(0x110000)",
     "output_type": "error",
     "traceback": [
      "\u001b[1;31m---------------------------------------------------------------------------\u001b[0m",
      "\u001b[1;31mValueError\u001b[0m                                Traceback (most recent call last)",
      "\u001b[1;32m<ipython-input-101-684fe18d534a>\u001b[0m in \u001b[0;36m<module>\u001b[1;34m\u001b[0m\n\u001b[1;32m----> 1\u001b[1;33m \u001b[0mchr\u001b[0m\u001b[1;33m(\u001b[0m\u001b[1;36m2110000\u001b[0m\u001b[1;33m)\u001b[0m\u001b[1;33m\u001b[0m\u001b[1;33m\u001b[0m\u001b[0m\n\u001b[0m",
      "\u001b[1;31mValueError\u001b[0m: chr() arg not in range(0x110000)"
     ]
    }
   ],
   "source": [
    "chr(2110000)"
   ]
  },
  {
   "cell_type": "code",
   "execution_count": 102,
   "id": "ff20af70",
   "metadata": {},
   "outputs": [],
   "source": [
    "list_1 = ['one', 'four', 'nine']\n",
    "list_1.sort()"
   ]
  },
  {
   "cell_type": "code",
   "execution_count": 103,
   "id": "94e62497",
   "metadata": {},
   "outputs": [
    {
     "data": {
      "text/plain": [
       "['four', 'nine', 'one']"
      ]
     },
     "execution_count": 103,
     "metadata": {},
     "output_type": "execute_result"
    }
   ],
   "source": [
    "list_1"
   ]
  },
  {
   "cell_type": "code",
   "execution_count": 104,
   "id": "ff33754b",
   "metadata": {},
   "outputs": [],
   "source": [
    "list_1 = ['one', 'four', 'nine']\n",
    "list_1.sort(reverse = True)"
   ]
  },
  {
   "cell_type": "code",
   "execution_count": 105,
   "id": "a4ded3ba",
   "metadata": {},
   "outputs": [
    {
     "data": {
      "text/plain": [
       "['one', 'nine', 'four']"
      ]
     },
     "execution_count": 105,
     "metadata": {},
     "output_type": "execute_result"
    }
   ],
   "source": [
    "list_1"
   ]
  },
  {
   "cell_type": "code",
   "execution_count": 106,
   "id": "389e2bfd",
   "metadata": {},
   "outputs": [
    {
     "data": {
      "text/plain": [
       "'Sort the list in ascending order and return None.\\n\\nThe sort is in-place (i.e. the list itself is modified) and stable (i.e. the\\norder of two equal elements is maintained).\\n\\nIf a key function is given, apply it once to each list item and sort them,\\nascending or descending, according to their function values.\\n\\nThe reverse flag can be set to sort in descending order.'"
      ]
     },
     "execution_count": 106,
     "metadata": {},
     "output_type": "execute_result"
    }
   ],
   "source": [
    "list_1.sort.__doc__"
   ]
  },
  {
   "cell_type": "code",
   "execution_count": 107,
   "id": "53513f26",
   "metadata": {},
   "outputs": [],
   "source": [
    "list_1 = ['one', 'four', 'nine', \"1\"]\n",
    "list_1.sort()"
   ]
  },
  {
   "cell_type": "code",
   "execution_count": 108,
   "id": "cb92f222",
   "metadata": {},
   "outputs": [
    {
     "data": {
      "text/plain": [
       "['1', 'four', 'nine', 'one']"
      ]
     },
     "execution_count": 108,
     "metadata": {},
     "output_type": "execute_result"
    }
   ],
   "source": [
    "list_1"
   ]
  },
  {
   "cell_type": "code",
   "execution_count": 109,
   "id": "fa93f79b",
   "metadata": {},
   "outputs": [
    {
     "ename": "TypeError",
     "evalue": "'<' not supported between instances of 'int' and 'str'",
     "output_type": "error",
     "traceback": [
      "\u001b[1;31m---------------------------------------------------------------------------\u001b[0m",
      "\u001b[1;31mTypeError\u001b[0m                                 Traceback (most recent call last)",
      "\u001b[1;32m<ipython-input-109-7b1a0585b6f2>\u001b[0m in \u001b[0;36m<module>\u001b[1;34m\u001b[0m\n\u001b[0;32m      1\u001b[0m \u001b[0mlist_1\u001b[0m \u001b[1;33m=\u001b[0m \u001b[1;33m[\u001b[0m\u001b[1;34m'one'\u001b[0m\u001b[1;33m,\u001b[0m \u001b[1;34m'four'\u001b[0m\u001b[1;33m,\u001b[0m \u001b[1;34m'nine'\u001b[0m\u001b[1;33m,\u001b[0m \u001b[1;36m1\u001b[0m\u001b[1;33m]\u001b[0m\u001b[1;33m\u001b[0m\u001b[1;33m\u001b[0m\u001b[0m\n\u001b[1;32m----> 2\u001b[1;33m \u001b[0mlist_1\u001b[0m\u001b[1;33m.\u001b[0m\u001b[0msort\u001b[0m\u001b[1;33m(\u001b[0m\u001b[1;33m)\u001b[0m\u001b[1;33m\u001b[0m\u001b[1;33m\u001b[0m\u001b[0m\n\u001b[0m",
      "\u001b[1;31mTypeError\u001b[0m: '<' not supported between instances of 'int' and 'str'"
     ]
    }
   ],
   "source": [
    "list_1 = ['one', 'four', 'nine', 1]\n",
    "list_1.sort()"
   ]
  },
  {
   "cell_type": "code",
   "execution_count": 110,
   "id": "f9c6369d",
   "metadata": {},
   "outputs": [
    {
     "data": {
      "text/plain": [
       "42"
      ]
     },
     "execution_count": 110,
     "metadata": {},
     "output_type": "execute_result"
    }
   ],
   "source": [
    "ord(\"*\")"
   ]
  },
  {
   "cell_type": "code",
   "execution_count": 111,
   "id": "6dc73d1e",
   "metadata": {},
   "outputs": [
    {
     "data": {
      "text/plain": [
       "64"
      ]
     },
     "execution_count": 111,
     "metadata": {},
     "output_type": "execute_result"
    }
   ],
   "source": [
    "ord(\"@\")"
   ]
  },
  {
   "cell_type": "code",
   "execution_count": 115,
   "id": "02baf692",
   "metadata": {},
   "outputs": [
    {
     "data": {
      "text/plain": [
       "['*', '@', 'False']"
      ]
     },
     "execution_count": 115,
     "metadata": {},
     "output_type": "execute_result"
    }
   ],
   "source": [
    "listem = ['@', '*', 'False']\n",
    "listem.sort()\n",
    "listem"
   ]
  },
  {
   "cell_type": "code",
   "execution_count": 118,
   "id": "cddf6507",
   "metadata": {},
   "outputs": [
    {
     "name": "stdout",
     "output_type": "stream",
     "text": [
      "None\n",
      "[True, False]\n"
     ]
    }
   ],
   "source": [
    "list_3 = [True, False]\n",
    "print(list_3.sort(reverse = True))\n",
    "print(list_3)"
   ]
  },
  {
   "cell_type": "code",
   "execution_count": 120,
   "id": "bb76dff3",
   "metadata": {},
   "outputs": [
    {
     "data": {
      "text/plain": [
       "[[44], [3], [-12]]"
      ]
     },
     "execution_count": 120,
     "metadata": {},
     "output_type": "execute_result"
    }
   ],
   "source": [
    "list_4 = [[3], [44], [-12]]\n",
    "list_4.sort(reverse = True)\n",
    "list_4"
   ]
  },
  {
   "cell_type": "code",
   "execution_count": 121,
   "id": "93ec7d2f",
   "metadata": {},
   "outputs": [
    {
     "data": {
      "text/plain": [
       "[[-12, 1], [1, 3], [44, -40]]"
      ]
     },
     "execution_count": 121,
     "metadata": {},
     "output_type": "execute_result"
    }
   ],
   "source": [
    "list_5 = [[1, 3], [44, -40], [-12, 1]]\n",
    "list_5.sort()\n",
    "list_5"
   ]
  },
  {
   "cell_type": "code",
   "execution_count": 123,
   "id": "6a77c82c",
   "metadata": {},
   "outputs": [
    {
     "data": {
      "text/plain": [
       "[[-12, 1], [1, 44], [1, 3339], [44, -40]]"
      ]
     },
     "execution_count": 123,
     "metadata": {},
     "output_type": "execute_result"
    }
   ],
   "source": [
    "list_5 = [[1, 3339], [44, -40], [-12, 1], [1, 44]]\n",
    "list_5.sort()\n",
    "list_5"
   ]
  },
  {
   "cell_type": "code",
   "execution_count": 124,
   "id": "44c09f80",
   "metadata": {},
   "outputs": [],
   "source": [
    "harfler = [\"a\", \"b\", \"a\", \"a\", \"c\", \"d\"]"
   ]
  },
  {
   "cell_type": "code",
   "execution_count": 125,
   "id": "ba805983",
   "metadata": {},
   "outputs": [
    {
     "data": {
      "text/plain": [
       "3"
      ]
     },
     "execution_count": 125,
     "metadata": {},
     "output_type": "execute_result"
    }
   ],
   "source": [
    "harfler.count(\"a\")"
   ]
  },
  {
   "cell_type": "code",
   "execution_count": 127,
   "id": "b7292a70",
   "metadata": {},
   "outputs": [
    {
     "data": {
      "text/plain": [
       "1"
      ]
     },
     "execution_count": 127,
     "metadata": {},
     "output_type": "execute_result"
    }
   ],
   "source": [
    "a = \"ali\"\n",
    "\"ali\".count(\"a\")"
   ]
  },
  {
   "cell_type": "code",
   "execution_count": 128,
   "id": "93c5e1b8",
   "metadata": {},
   "outputs": [
    {
     "data": {
      "text/plain": [
       "'Return number of occurrences of value.'"
      ]
     },
     "execution_count": 128,
     "metadata": {},
     "output_type": "execute_result"
    }
   ],
   "source": [
    "list.count.__doc__"
   ]
  },
  {
   "cell_type": "code",
   "execution_count": 129,
   "id": "29f07fe2",
   "metadata": {},
   "outputs": [
    {
     "data": {
      "text/plain": [
       "4"
      ]
     },
     "execution_count": 129,
     "metadata": {},
     "output_type": "execute_result"
    }
   ],
   "source": [
    "harfler.index(\"c\")"
   ]
  },
  {
   "cell_type": "code",
   "execution_count": 130,
   "id": "4a1ebe8a",
   "metadata": {},
   "outputs": [
    {
     "data": {
      "text/plain": [
       "0"
      ]
     },
     "execution_count": 130,
     "metadata": {},
     "output_type": "execute_result"
    }
   ],
   "source": [
    "harfler.index(\"a\")"
   ]
  },
  {
   "cell_type": "code",
   "execution_count": 131,
   "id": "38382a54",
   "metadata": {},
   "outputs": [
    {
     "data": {
      "text/plain": [
       "'Return first index of value.\\n\\nRaises ValueError if the value is not present.'"
      ]
     },
     "execution_count": 131,
     "metadata": {},
     "output_type": "execute_result"
    }
   ],
   "source": [
    "list.index.__doc__"
   ]
  },
  {
   "cell_type": "code",
   "execution_count": 132,
   "id": "1c9b08c5",
   "metadata": {},
   "outputs": [
    {
     "ename": "ValueError",
     "evalue": "'k' is not in list",
     "output_type": "error",
     "traceback": [
      "\u001b[1;31m---------------------------------------------------------------------------\u001b[0m",
      "\u001b[1;31mValueError\u001b[0m                                Traceback (most recent call last)",
      "\u001b[1;32m<ipython-input-132-cfe332c9126f>\u001b[0m in \u001b[0;36m<module>\u001b[1;34m\u001b[0m\n\u001b[1;32m----> 1\u001b[1;33m \u001b[0mharfler\u001b[0m\u001b[1;33m.\u001b[0m\u001b[0mindex\u001b[0m\u001b[1;33m(\u001b[0m\u001b[1;34m\"k\"\u001b[0m\u001b[1;33m)\u001b[0m\u001b[1;33m\u001b[0m\u001b[1;33m\u001b[0m\u001b[0m\n\u001b[0m",
      "\u001b[1;31mValueError\u001b[0m: 'k' is not in list"
     ]
    }
   ],
   "source": [
    "harfler.index(\"k\")"
   ]
  },
  {
   "cell_type": "code",
   "execution_count": 133,
   "id": "ddca651d",
   "metadata": {},
   "outputs": [
    {
     "data": {
      "text/plain": [
       "['a', 'b', 'a', 'a', 'c', 'd']"
      ]
     },
     "execution_count": 133,
     "metadata": {},
     "output_type": "execute_result"
    }
   ],
   "source": [
    "harfler"
   ]
  },
  {
   "cell_type": "code",
   "execution_count": 134,
   "id": "ffc1985c",
   "metadata": {},
   "outputs": [
    {
     "data": {
      "text/plain": [
       "2"
      ]
     },
     "execution_count": 134,
     "metadata": {},
     "output_type": "execute_result"
    }
   ],
   "source": [
    "sayılar = [1, 2, 1]\n",
    "sayılar.count(1)"
   ]
  },
  {
   "cell_type": "code",
   "execution_count": 135,
   "id": "aa169b98",
   "metadata": {},
   "outputs": [],
   "source": [
    "harfler.reverse()"
   ]
  },
  {
   "cell_type": "code",
   "execution_count": 136,
   "id": "d1d1aa65",
   "metadata": {},
   "outputs": [
    {
     "data": {
      "text/plain": [
       "['d', 'c', 'a', 'a', 'b', 'a']"
      ]
     },
     "execution_count": 136,
     "metadata": {},
     "output_type": "execute_result"
    }
   ],
   "source": [
    "harfler"
   ]
  },
  {
   "cell_type": "code",
   "execution_count": 138,
   "id": "00fc0411",
   "metadata": {},
   "outputs": [
    {
     "name": "stdout",
     "output_type": "stream",
     "text": [
      "None\n"
     ]
    }
   ],
   "source": [
    "print(harfler.sort())"
   ]
  },
  {
   "cell_type": "code",
   "execution_count": 141,
   "id": "e264092f",
   "metadata": {},
   "outputs": [
    {
     "name": "stdout",
     "output_type": "stream",
     "text": [
      "['a', 'a', 'a', 'd']\n"
     ]
    },
    {
     "data": {
      "text/plain": [
       "'D'"
      ]
     },
     "execution_count": 141,
     "metadata": {},
     "output_type": "execute_result"
    }
   ],
   "source": [
    "print(harfler)\n",
    "harfler.pop(3).upper()"
   ]
  },
  {
   "cell_type": "code",
   "execution_count": 142,
   "id": "e91af5ac",
   "metadata": {},
   "outputs": [
    {
     "data": {
      "text/plain": [
       "['a', 'b', 'a', 'a', 'c', 'd', 'e', 'f', 'g', 'h']"
      ]
     },
     "execution_count": 142,
     "metadata": {},
     "output_type": "execute_result"
    }
   ],
   "source": [
    "harfler = [\"a\", \"b\", \"a\", \"a\", \"c\", \"d\"]\n",
    "harfler.extend(\"efgh\")\n",
    "harfler"
   ]
  },
  {
   "cell_type": "code",
   "execution_count": 143,
   "id": "52c02730",
   "metadata": {},
   "outputs": [],
   "source": [
    "harfler.append(\"ijkl\")"
   ]
  },
  {
   "cell_type": "code",
   "execution_count": 144,
   "id": "2d32f0fc",
   "metadata": {},
   "outputs": [
    {
     "data": {
      "text/plain": [
       "['a', 'b', 'a', 'a', 'c', 'd', 'e', 'f', 'g', 'h', 'ijkl']"
      ]
     },
     "execution_count": 144,
     "metadata": {},
     "output_type": "execute_result"
    }
   ],
   "source": [
    "harfler"
   ]
  },
  {
   "cell_type": "code",
   "execution_count": 149,
   "id": "05c490b6",
   "metadata": {},
   "outputs": [
    {
     "data": {
      "text/plain": [
       "['Chevrolet', 'Dacia']"
      ]
     },
     "execution_count": 149,
     "metadata": {},
     "output_type": "execute_result"
    }
   ],
   "source": [
    "string = \"Chevrolet:Dacia\"\n",
    "result = string.split(\":\")\n",
    "result"
   ]
  },
  {
   "cell_type": "code",
   "execution_count": 146,
   "id": "fe80ce01",
   "metadata": {},
   "outputs": [
    {
     "data": {
      "text/plain": [
       "'Return a list of the words in the string, using sep as the delimiter string.\\n\\n  sep\\n    The delimiter according which to split the string.\\n    None (the default value) means split according to any whitespace,\\n    and discard empty strings from the result.\\n  maxsplit\\n    Maximum number of splits to do.\\n    -1 (the default value) means no limit.'"
      ]
     },
     "execution_count": 146,
     "metadata": {},
     "output_type": "execute_result"
    }
   ],
   "source": [
    "\"\".split.__doc__\n"
   ]
  },
  {
   "cell_type": "code",
   "execution_count": 154,
   "id": "555444fd",
   "metadata": {},
   "outputs": [
    {
     "name": "stdout",
     "output_type": "stream",
     "text": [
      "3.14 2000\n"
     ]
    }
   ],
   "source": [
    "years = [1998, 2000, 1998, 1987, 3.14]\n",
    "minimum = min(years)\n",
    "maximum = max(years)\n",
    "print(minimum,maximum)"
   ]
  },
  {
   "cell_type": "code",
   "execution_count": 155,
   "id": "ed5e6af2",
   "metadata": {},
   "outputs": [],
   "source": [
    "years.clear()"
   ]
  },
  {
   "cell_type": "code",
   "execution_count": 156,
   "id": "100ae550",
   "metadata": {},
   "outputs": [
    {
     "data": {
      "text/plain": [
       "[]"
      ]
     },
     "execution_count": 156,
     "metadata": {},
     "output_type": "execute_result"
    }
   ],
   "source": [
    "years"
   ]
  },
  {
   "cell_type": "code",
   "execution_count": 157,
   "id": "b18df981",
   "metadata": {},
   "outputs": [
    {
     "ename": "SyntaxError",
     "evalue": "invalid syntax (<ipython-input-157-e2472b1d894c>, line 1)",
     "output_type": "error",
     "traceback": [
      "\u001b[1;36m  File \u001b[1;32m\"<ipython-input-157-e2472b1d894c>\"\u001b[1;36m, line \u001b[1;32m1\u001b[0m\n\u001b[1;33m    del.__doc__\u001b[0m\n\u001b[1;37m       ^\u001b[0m\n\u001b[1;31mSyntaxError\u001b[0m\u001b[1;31m:\u001b[0m invalid syntax\n"
     ]
    }
   ],
   "source": [
    "\n"
   ]
  },
  {
   "cell_type": "code",
   "execution_count": 158,
   "id": "b69dd4c5",
   "metadata": {},
   "outputs": [
    {
     "data": {
      "text/plain": [
       "['one', 'two', 'there', 'four', 'five', 'six']"
      ]
     },
     "execution_count": 158,
     "metadata": {},
     "output_type": "execute_result"
    }
   ],
   "source": [
    "list1 = ['one','two','there']\n",
    "list2 = ['four','five','six']\n",
    "\n",
    "numbers = list1 + list2\n",
    "numbers"
   ]
  },
  {
   "cell_type": "code",
   "execution_count": 164,
   "id": "f8040e6e",
   "metadata": {},
   "outputs": [
    {
     "name": "stdout",
     "output_type": "stream",
     "text": [
      "['Andrew', 37]\n",
      "['Halil', 33]\n",
      "[['Andrew', 37], ['Halil', 33]]\n",
      "[['Andrew', 37], ['Halil', 33]]\n",
      "1\n"
     ]
    }
   ],
   "source": [
    "A = [\"Andrew\", 37]\n",
    "B = [\"Halil\", 33]\n",
    "\n",
    "users = [A, B] \n",
    "users2 = [[\"Andrew\", 37], [\"Halil\", 33]]\n",
    "users3 = [A + B]\n",
    "print(A)\n",
    "print(B)\n",
    "print(users)\n",
    "print(users2)\n",
    "print(len(users3))"
   ]
  },
  {
   "cell_type": "code",
   "execution_count": 161,
   "id": "66f936e8",
   "metadata": {},
   "outputs": [
    {
     "data": {
      "text/plain": [
       "[1, 2, 3, 4, 'Andrew']"
      ]
     },
     "execution_count": 161,
     "metadata": {},
     "output_type": "execute_result"
    }
   ],
   "source": [
    "liste = [1,2,3,4]\n",
    "liste += [\"Andrew\"]\n",
    "liste"
   ]
  },
  {
   "cell_type": "code",
   "execution_count": 165,
   "id": "423513d2",
   "metadata": {},
   "outputs": [
    {
     "data": {
      "text/plain": [
       "[1, 2, 3, 4, 'Andrew']"
      ]
     },
     "execution_count": 165,
     "metadata": {},
     "output_type": "execute_result"
    }
   ],
   "source": [
    "liste"
   ]
  },
  {
   "cell_type": "code",
   "execution_count": 166,
   "id": "81ce67c8",
   "metadata": {},
   "outputs": [
    {
     "data": {
      "text/plain": [
       "[10, 2, 3, 4, 'Andrew']"
      ]
     },
     "execution_count": 166,
     "metadata": {},
     "output_type": "execute_result"
    }
   ],
   "source": [
    "liste[0] = 10\n",
    "liste"
   ]
  },
  {
   "cell_type": "code",
   "execution_count": 168,
   "id": "424ca0d6",
   "metadata": {},
   "outputs": [
    {
     "data": {
      "text/plain": [
       "['C']"
      ]
     },
     "execution_count": 168,
     "metadata": {},
     "output_type": "execute_result"
    }
   ],
   "source": [
    "isim = [\"Andrew\"]\n",
    "isim[0] = \"C\"\n",
    "isim"
   ]
  },
  {
   "cell_type": "code",
   "execution_count": 170,
   "id": "23abaf7d",
   "metadata": {},
   "outputs": [
    {
     "data": {
      "text/plain": [
       "[1, 2, 3, 4, 'A', 'n', 'd', 'r', 'e', 'w']"
      ]
     },
     "execution_count": 170,
     "metadata": {},
     "output_type": "execute_result"
    }
   ],
   "source": [
    "liste = [1,2,3,4]\n",
    "liste = liste + list(\"Andrew\")\n",
    "liste"
   ]
  },
  {
   "cell_type": "code",
   "execution_count": 171,
   "id": "ea75f6a9",
   "metadata": {},
   "outputs": [
    {
     "data": {
      "text/plain": [
       "[10, 20, 3, 4, 'A', 'n', 'd', 'r', 'e', 'w']"
      ]
     },
     "execution_count": 171,
     "metadata": {},
     "output_type": "execute_result"
    }
   ],
   "source": [
    "liste[:2] = [10, 20]\n",
    "liste"
   ]
  },
  {
   "cell_type": "code",
   "execution_count": 172,
   "id": "3ef250b5",
   "metadata": {},
   "outputs": [
    {
     "data": {
      "text/plain": [
       "[1, 2, 3, 4, 1, 2, 3, 4, 1, 2, 3, 4]"
      ]
     },
     "execution_count": 172,
     "metadata": {},
     "output_type": "execute_result"
    }
   ],
   "source": [
    "liste = [1,2,3,4]\n",
    "liste * 3"
   ]
  },
  {
   "cell_type": "code",
   "execution_count": 173,
   "id": "4dfe4f68",
   "metadata": {},
   "outputs": [
    {
     "data": {
      "text/plain": [
       "[1, 2, 3, 4]"
      ]
     },
     "execution_count": 173,
     "metadata": {},
     "output_type": "execute_result"
    }
   ],
   "source": [
    "liste"
   ]
  },
  {
   "cell_type": "code",
   "execution_count": 174,
   "id": "ad299013",
   "metadata": {},
   "outputs": [
    {
     "data": {
      "text/plain": [
       "[1, 2, 3, 4, 1, 2, 3, 4, 1, 2, 3, 4]"
      ]
     },
     "execution_count": 174,
     "metadata": {},
     "output_type": "execute_result"
    }
   ],
   "source": [
    "liste = liste * 3\n",
    "liste"
   ]
  },
  {
   "cell_type": "markdown",
   "id": "b13b093d",
   "metadata": {},
   "source": [
    "\"Loves me, loves me not\" is a traditional game in which a person plucks off all the petals of a flower one by one, saying the phrase \"Loves me\" and \"Loves me not\" when determining whether the one that they love, loves them back.\n",
    "Given a number of petals, return a string which repeats the phrases \"Loves me\" and \"Loves me not\" for every alternating petal, and return the last phrase in all caps. Remember to put a comma and space between phrases.\n",
    "INPUT : 3 ➞ \"Loves me, Loves me not, LOVES ME\"\n",
    "\n",
    "INPUT : 6 ➞ \"Loves me, Loves me not, Loves me, Loves me not, Loves me, LOVES ME NOT\"\n",
    "\n",
    "INPUT : 1 ➞ \"LOVES ME\"\n",
    "Remember to return a string.\n",
    "The first phrase is always \"Loves me\""
   ]
  },
  {
   "cell_type": "code",
   "execution_count": null,
   "id": "753bbe06",
   "metadata": {},
   "outputs": [],
   "source": [
    "%  //"
   ]
  }
 ],
 "metadata": {
  "interpreter": {
   "hash": "b3ba2566441a7c06988d0923437866b63cedc61552a5af99d1f4fb67d367b25f"
  },
  "kernelspec": {
   "display_name": "Python 3.8.5 64-bit ('base': conda)",
   "name": "python3"
  },
  "language_info": {
   "codemirror_mode": {
    "name": "ipython",
    "version": 3
   },
   "file_extension": ".py",
   "mimetype": "text/x-python",
   "name": "python",
   "nbconvert_exporter": "python",
   "pygments_lexer": "ipython3",
   "version": "3.8.5"
  }
 },
 "nbformat": 4,
 "nbformat_minor": 5
}
