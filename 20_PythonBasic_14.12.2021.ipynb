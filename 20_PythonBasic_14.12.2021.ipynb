{
 "cells": [
  {
   "cell_type": "markdown",
   "metadata": {},
   "source": [
    "<p align=\"center\">\n",
    "<img src=\"https://docs.google.com/uc?id=14xeXxFrVRjvOoUYWn_GuyE-v84wVzrqr\" class=\"img-fluid\" alt=\"CLRWY\" width=\"600\" height=\"100\" >\n",
    "</p>"
   ]
  },
  {
   "cell_type": "markdown",
   "metadata": {},
   "source": [
    "<h1><p style=\"text-align: center; color:yellow\">Python In-Class, <br>14 December 2021</p><h1>"
   ]
  },
  {
   "cell_type": "markdown",
   "metadata": {},
   "source": [
    "**Question - 1**\n",
    "\n",
    "Take the following IPv4 address: **128.32.10.1**\n",
    "\n",
    "This address has 4 octets where each octet is a single byte (or 8 bits).\n",
    "\n",
    "- 1st octet **128** has the binary representation: **10000000**\n",
    "- 2nd octet **32** has the binary representation: **00100000**\n",
    "- 3rd octet **10** has the binary representation: **00001010**\n",
    "- 4th octet **1** has the binary representation: **00000001**\n",
    "\n",
    "So **128.32.10.1** == **10000000.00100000.00001010.00000001**\n",
    "\n",
    "Because the above IP address has 32 bits, we can represent it as the unsigned 32 bit number: **2149583361**\n",
    "\n",
    "Complete the function that takes an unsigned 32 bit number and returns a string representation of its IPv4 address.\n",
    "\n",
    "Examples\n",
    "\n",
    "2149583361 ==> \"128.32.10.1\"\n",
    "\n",
    "32         ==> \"0.0.0.32\"\n",
    "\n",
    "0          ==> \"0.0.0.0\""
   ]
  },
  {
   "cell_type": "code",
   "execution_count": 16,
   "metadata": {},
   "outputs": [
    {
     "name": "stdout",
     "output_type": "stream",
     "text": [
      "10000000\n",
      "['128']\n",
      "00100000\n",
      "['128', '32']\n",
      "00001010\n",
      "['128', '32', '10']\n",
      "00000001\n",
      "['128', '32', '10', '1']\n",
      "128.32.10.1\n"
     ]
    }
   ],
   "source": [
    "decimal = 2149583361\n",
    "binary = bin(decimal)[2:]\n",
    "while len(binary) < 32 :\n",
    "    binary = \"0\" + binary\n",
    "IPV4list = []\n",
    "for i in range(0, 32, 8) :\n",
    "    #print(binary[i:i+8])\n",
    "    IPV4list.append(str(int(binary[i:i+8], 2)))\n",
    "    #print(IPV4list)\n",
    "print(\".\".join(IPV4list))"
   ]
  },
  {
   "cell_type": "code",
   "execution_count": null,
   "metadata": {},
   "outputs": [],
   "source": [
    "def int32_to_ip(int32):\n",
    "    \n",
    "    bin_str = f'{int32:b}'.rjust(32, '0')\n",
    "    return '.'.join([str(int(bin_str[idx:idx + 8], 2)) for idx in range(0, len(bin_str), 8)])"
   ]
  },
  {
   "cell_type": "code",
   "execution_count": null,
   "metadata": {},
   "outputs": [],
   "source": [
    "def function(a) :\n",
    "  donusturulmus = \"{0:b}\".format(a).rjust(32, \"0\")\n",
    "  return \".\".join([str(int(donusturulmus[x : x + 8], 2)) for x in range(0, 32, 8)])\n",
    "function(2149583361)"
   ]
  },
  {
   "cell_type": "code",
   "execution_count": 25,
   "metadata": {},
   "outputs": [
    {
     "data": {
      "text/plain": [
       "'+++++++++++2149583361+++++++++++'"
      ]
     },
     "execution_count": 25,
     "metadata": {},
     "output_type": "execute_result"
    }
   ],
   "source": [
    "decimal = 2149583361\n",
    "binary = f\"{decimal:+^32}\"\n",
    "binary"
   ]
  },
  {
   "cell_type": "code",
   "execution_count": 9,
   "metadata": {},
   "outputs": [
    {
     "name": "stdout",
     "output_type": "stream",
     "text": [
      "Help on class int in module builtins:\n",
      "\n",
      "class int(object)\n",
      " |  int([x]) -> integer\n",
      " |  int(x, base=10) -> integer\n",
      " |  \n",
      " |  Convert a number or string to an integer, or return 0 if no arguments\n",
      " |  are given.  If x is a number, return x.__int__().  For floating point\n",
      " |  numbers, this truncates towards zero.\n",
      " |  \n",
      " |  If x is not a number or if base is given, then x must be a string,\n",
      " |  bytes, or bytearray instance representing an integer literal in the\n",
      " |  given base.  The literal can be preceded by '+' or '-' and be surrounded\n",
      " |  by whitespace.  The base defaults to 10.  Valid bases are 0 and 2-36.\n",
      " |  Base 0 means to interpret the base from the string as an integer literal.\n",
      " |  >>> int('0b100', base=0)\n",
      " |  4\n",
      " |  \n",
      " |  Built-in subclasses:\n",
      " |      bool\n",
      " |  \n",
      " |  Methods defined here:\n",
      " |  \n",
      " |  __abs__(self, /)\n",
      " |      abs(self)\n",
      " |  \n",
      " |  __add__(self, value, /)\n",
      " |      Return self+value.\n",
      " |  \n",
      " |  __and__(self, value, /)\n",
      " |      Return self&value.\n",
      " |  \n",
      " |  __bool__(self, /)\n",
      " |      self != 0\n",
      " |  \n",
      " |  __ceil__(...)\n",
      " |      Ceiling of an Integral returns itself.\n",
      " |  \n",
      " |  __divmod__(self, value, /)\n",
      " |      Return divmod(self, value).\n",
      " |  \n",
      " |  __eq__(self, value, /)\n",
      " |      Return self==value.\n",
      " |  \n",
      " |  __float__(self, /)\n",
      " |      float(self)\n",
      " |  \n",
      " |  __floor__(...)\n",
      " |      Flooring an Integral returns itself.\n",
      " |  \n",
      " |  __floordiv__(self, value, /)\n",
      " |      Return self//value.\n",
      " |  \n",
      " |  __format__(self, format_spec, /)\n",
      " |      Default object formatter.\n",
      " |  \n",
      " |  __ge__(self, value, /)\n",
      " |      Return self>=value.\n",
      " |  \n",
      " |  __getattribute__(self, name, /)\n",
      " |      Return getattr(self, name).\n",
      " |  \n",
      " |  __getnewargs__(self, /)\n",
      " |  \n",
      " |  __gt__(self, value, /)\n",
      " |      Return self>value.\n",
      " |  \n",
      " |  __hash__(self, /)\n",
      " |      Return hash(self).\n",
      " |  \n",
      " |  __index__(self, /)\n",
      " |      Return self converted to an integer, if self is suitable for use as an index into a list.\n",
      " |  \n",
      " |  __int__(self, /)\n",
      " |      int(self)\n",
      " |  \n",
      " |  __invert__(self, /)\n",
      " |      ~self\n",
      " |  \n",
      " |  __le__(self, value, /)\n",
      " |      Return self<=value.\n",
      " |  \n",
      " |  __lshift__(self, value, /)\n",
      " |      Return self<<value.\n",
      " |  \n",
      " |  __lt__(self, value, /)\n",
      " |      Return self<value.\n",
      " |  \n",
      " |  __mod__(self, value, /)\n",
      " |      Return self%value.\n",
      " |  \n",
      " |  __mul__(self, value, /)\n",
      " |      Return self*value.\n",
      " |  \n",
      " |  __ne__(self, value, /)\n",
      " |      Return self!=value.\n",
      " |  \n",
      " |  __neg__(self, /)\n",
      " |      -self\n",
      " |  \n",
      " |  __or__(self, value, /)\n",
      " |      Return self|value.\n",
      " |  \n",
      " |  __pos__(self, /)\n",
      " |      +self\n",
      " |  \n",
      " |  __pow__(self, value, mod=None, /)\n",
      " |      Return pow(self, value, mod).\n",
      " |  \n",
      " |  __radd__(self, value, /)\n",
      " |      Return value+self.\n",
      " |  \n",
      " |  __rand__(self, value, /)\n",
      " |      Return value&self.\n",
      " |  \n",
      " |  __rdivmod__(self, value, /)\n",
      " |      Return divmod(value, self).\n",
      " |  \n",
      " |  __repr__(self, /)\n",
      " |      Return repr(self).\n",
      " |  \n",
      " |  __rfloordiv__(self, value, /)\n",
      " |      Return value//self.\n",
      " |  \n",
      " |  __rlshift__(self, value, /)\n",
      " |      Return value<<self.\n",
      " |  \n",
      " |  __rmod__(self, value, /)\n",
      " |      Return value%self.\n",
      " |  \n",
      " |  __rmul__(self, value, /)\n",
      " |      Return value*self.\n",
      " |  \n",
      " |  __ror__(self, value, /)\n",
      " |      Return value|self.\n",
      " |  \n",
      " |  __round__(...)\n",
      " |      Rounding an Integral returns itself.\n",
      " |      \n",
      " |      Rounding with an ndigits argument also returns an integer.\n",
      " |  \n",
      " |  __rpow__(self, value, mod=None, /)\n",
      " |      Return pow(value, self, mod).\n",
      " |  \n",
      " |  __rrshift__(self, value, /)\n",
      " |      Return value>>self.\n",
      " |  \n",
      " |  __rshift__(self, value, /)\n",
      " |      Return self>>value.\n",
      " |  \n",
      " |  __rsub__(self, value, /)\n",
      " |      Return value-self.\n",
      " |  \n",
      " |  __rtruediv__(self, value, /)\n",
      " |      Return value/self.\n",
      " |  \n",
      " |  __rxor__(self, value, /)\n",
      " |      Return value^self.\n",
      " |  \n",
      " |  __sizeof__(self, /)\n",
      " |      Returns size in memory, in bytes.\n",
      " |  \n",
      " |  __sub__(self, value, /)\n",
      " |      Return self-value.\n",
      " |  \n",
      " |  __truediv__(self, value, /)\n",
      " |      Return self/value.\n",
      " |  \n",
      " |  __trunc__(...)\n",
      " |      Truncating an Integral returns itself.\n",
      " |  \n",
      " |  __xor__(self, value, /)\n",
      " |      Return self^value.\n",
      " |  \n",
      " |  as_integer_ratio(self, /)\n",
      " |      Return integer ratio.\n",
      " |      \n",
      " |      Return a pair of integers, whose ratio is exactly equal to the original int\n",
      " |      and with a positive denominator.\n",
      " |      \n",
      " |      >>> (10).as_integer_ratio()\n",
      " |      (10, 1)\n",
      " |      >>> (-10).as_integer_ratio()\n",
      " |      (-10, 1)\n",
      " |      >>> (0).as_integer_ratio()\n",
      " |      (0, 1)\n",
      " |  \n",
      " |  bit_count(self, /)\n",
      " |      Number of ones in the binary representation of the absolute value of self.\n",
      " |      \n",
      " |      Also known as the population count.\n",
      " |      \n",
      " |      >>> bin(13)\n",
      " |      '0b1101'\n",
      " |      >>> (13).bit_count()\n",
      " |      3\n",
      " |  \n",
      " |  bit_length(self, /)\n",
      " |      Number of bits necessary to represent self in binary.\n",
      " |      \n",
      " |      >>> bin(37)\n",
      " |      '0b100101'\n",
      " |      >>> (37).bit_length()\n",
      " |      6\n",
      " |  \n",
      " |  conjugate(...)\n",
      " |      Returns self, the complex conjugate of any int.\n",
      " |  \n",
      " |  to_bytes(self, /, length, byteorder, *, signed=False)\n",
      " |      Return an array of bytes representing an integer.\n",
      " |      \n",
      " |      length\n",
      " |        Length of bytes object to use.  An OverflowError is raised if the\n",
      " |        integer is not representable with the given number of bytes.\n",
      " |      byteorder\n",
      " |        The byte order used to represent the integer.  If byteorder is 'big',\n",
      " |        the most significant byte is at the beginning of the byte array.  If\n",
      " |        byteorder is 'little', the most significant byte is at the end of the\n",
      " |        byte array.  To request the native byte order of the host system, use\n",
      " |        `sys.byteorder' as the byte order value.\n",
      " |      signed\n",
      " |        Determines whether two's complement is used to represent the integer.\n",
      " |        If signed is False and a negative integer is given, an OverflowError\n",
      " |        is raised.\n",
      " |  \n",
      " |  ----------------------------------------------------------------------\n",
      " |  Class methods defined here:\n",
      " |  \n",
      " |  from_bytes(bytes, byteorder, *, signed=False) from builtins.type\n",
      " |      Return the integer represented by the given array of bytes.\n",
      " |      \n",
      " |      bytes\n",
      " |        Holds the array of bytes to convert.  The argument must either\n",
      " |        support the buffer protocol or be an iterable object producing bytes.\n",
      " |        Bytes and bytearray are examples of built-in objects that support the\n",
      " |        buffer protocol.\n",
      " |      byteorder\n",
      " |        The byte order used to represent the integer.  If byteorder is 'big',\n",
      " |        the most significant byte is at the beginning of the byte array.  If\n",
      " |        byteorder is 'little', the most significant byte is at the end of the\n",
      " |        byte array.  To request the native byte order of the host system, use\n",
      " |        `sys.byteorder' as the byte order value.\n",
      " |      signed\n",
      " |        Indicates whether two's complement is used to represent the integer.\n",
      " |  \n",
      " |  ----------------------------------------------------------------------\n",
      " |  Static methods defined here:\n",
      " |  \n",
      " |  __new__(*args, **kwargs) from builtins.type\n",
      " |      Create and return a new object.  See help(type) for accurate signature.\n",
      " |  \n",
      " |  ----------------------------------------------------------------------\n",
      " |  Data descriptors defined here:\n",
      " |  \n",
      " |  denominator\n",
      " |      the denominator of a rational number in lowest terms\n",
      " |  \n",
      " |  imag\n",
      " |      the imaginary part of a complex number\n",
      " |  \n",
      " |  numerator\n",
      " |      the numerator of a rational number in lowest terms\n",
      " |  \n",
      " |  real\n",
      " |      the real part of a complex number\n",
      "\n"
     ]
    }
   ],
   "source": [
    "help(int)"
   ]
  },
  {
   "cell_type": "code",
   "execution_count": 12,
   "metadata": {},
   "outputs": [
    {
     "ename": "ValueError",
     "evalue": "invalid literal for int() with base 2: '10000200'",
     "output_type": "error",
     "traceback": [
      "\u001b[1;31m---------------------------------------------------------------------------\u001b[0m",
      "\u001b[1;31mValueError\u001b[0m                                Traceback (most recent call last)",
      "\u001b[1;32m~\\AppData\\Local\\Temp/ipykernel_6844/63010641.py\u001b[0m in \u001b[0;36m<module>\u001b[1;34m\u001b[0m\n\u001b[1;32m----> 1\u001b[1;33m \u001b[0mint\u001b[0m\u001b[1;33m(\u001b[0m\u001b[1;34m\"10000200\"\u001b[0m\u001b[1;33m,\u001b[0m \u001b[1;36m2\u001b[0m\u001b[1;33m)\u001b[0m\u001b[1;33m\u001b[0m\u001b[1;33m\u001b[0m\u001b[0m\n\u001b[0m",
      "\u001b[1;31mValueError\u001b[0m: invalid literal for int() with base 2: '10000200'"
     ]
    }
   ],
   "source": [
    "int(\"10000100\", 2)"
   ]
  },
  {
   "cell_type": "code",
   "execution_count": 13,
   "metadata": {},
   "outputs": [
    {
     "data": {
      "text/plain": [
       "645"
      ]
     },
     "execution_count": 13,
     "metadata": {},
     "output_type": "execute_result"
    }
   ],
   "source": [
    "int(\"10040\", 5)"
   ]
  },
  {
   "cell_type": "markdown",
   "metadata": {},
   "source": [
    "### show me my way, please! <img src=\"https://www.robotsepeti.com/nao-insansi-robot-platformu-v6-egitmen-educator-versiyonu-insansi-robot-softbank-robotics-9282-48-B.png\" height = \"100\" width=\"300\" alt=\"Robot\">"
   ]
  },
  {
   "cell_type": "code",
   "execution_count": 26,
   "metadata": {},
   "outputs": [],
   "source": [
    "command = [\"right 20\", \"right 30\", \"left 50\", \"up 10\", \"down 20\"]"
   ]
  },
  {
   "cell_type": "code",
   "execution_count": 27,
   "metadata": {},
   "outputs": [],
   "source": [
    "x = y = 0"
   ]
  },
  {
   "cell_type": "code",
   "execution_count": 28,
   "metadata": {},
   "outputs": [
    {
     "data": {
      "text/plain": [
       "[0, 0]"
      ]
     },
     "execution_count": 28,
     "metadata": {},
     "output_type": "execute_result"
    }
   ],
   "source": [
    "[x, y]"
   ]
  },
  {
   "cell_type": "code",
   "execution_count": 29,
   "metadata": {},
   "outputs": [],
   "source": [
    "(x ,y) = (0, 0)"
   ]
  },
  {
   "cell_type": "code",
   "execution_count": 30,
   "metadata": {},
   "outputs": [
    {
     "data": {
      "text/plain": [
       "0"
      ]
     },
     "execution_count": 30,
     "metadata": {},
     "output_type": "execute_result"
    }
   ],
   "source": [
    "x"
   ]
  },
  {
   "cell_type": "code",
   "execution_count": 31,
   "metadata": {},
   "outputs": [
    {
     "data": {
      "text/plain": [
       "0"
      ]
     },
     "execution_count": 31,
     "metadata": {},
     "output_type": "execute_result"
    }
   ],
   "source": [
    "y"
   ]
  },
  {
   "cell_type": "code",
   "execution_count": 32,
   "metadata": {},
   "outputs": [
    {
     "data": {
      "text/plain": [
       "int"
      ]
     },
     "execution_count": 32,
     "metadata": {},
     "output_type": "execute_result"
    }
   ],
   "source": [
    "type(x)"
   ]
  },
  {
   "cell_type": "code",
   "execution_count": 33,
   "metadata": {},
   "outputs": [
    {
     "data": {
      "text/plain": [
       "['right 20', 'right 30', 'left 50', 'up 10', 'down 20']"
      ]
     },
     "execution_count": 33,
     "metadata": {},
     "output_type": "execute_result"
    }
   ],
   "source": [
    "command"
   ]
  },
  {
   "cell_type": "code",
   "execution_count": 34,
   "metadata": {},
   "outputs": [
    {
     "data": {
      "text/plain": [
       "['right', '20']"
      ]
     },
     "execution_count": 34,
     "metadata": {},
     "output_type": "execute_result"
    }
   ],
   "source": [
    "command[0].split()"
   ]
  },
  {
   "cell_type": "code",
   "execution_count": 36,
   "metadata": {},
   "outputs": [
    {
     "data": {
      "text/plain": [
       "str"
      ]
     },
     "execution_count": 36,
     "metadata": {},
     "output_type": "execute_result"
    }
   ],
   "source": [
    "type(command[0].split()[1])"
   ]
  },
  {
   "cell_type": "code",
   "execution_count": 47,
   "metadata": {},
   "outputs": [],
   "source": [
    "x = y = 0"
   ]
  },
  {
   "cell_type": "code",
   "execution_count": 42,
   "metadata": {},
   "outputs": [
    {
     "data": {
      "text/plain": [
       "[0, -10]"
      ]
     },
     "execution_count": 42,
     "metadata": {},
     "output_type": "execute_result"
    }
   ],
   "source": [
    "for i in command :\n",
    "    #print(i)\n",
    "    if i.startswith(\"r\") : x = x + int(i.split()[1])  \n",
    "    elif i.startswith(\"l\") : x = x - int(i.split()[1]) \n",
    "    elif i.startswith(\"u\") : y = y + int(i.split()[1]) \n",
    "    elif i.startswith(\"d\") : y = y - int(i.split()[1]) \n",
    "\n",
    "[x, y]"
   ]
  },
  {
   "cell_type": "code",
   "execution_count": 48,
   "metadata": {},
   "outputs": [
    {
     "name": "stdout",
     "output_type": "stream",
     "text": [
      "20 0\n",
      "50 0\n",
      "0 0\n",
      "0 10\n",
      "0 -10\n"
     ]
    },
    {
     "data": {
      "text/plain": [
       "[0, -10]"
      ]
     },
     "execution_count": 48,
     "metadata": {},
     "output_type": "execute_result"
    }
   ],
   "source": [
    "for i in range(len(command)) :\n",
    "    if command[i].startswith(\"r\") : x = x + int(command[i].split()[1]) \n",
    "    elif command[i].startswith(\"l\") : x = x - int(command[i].split()[1])\n",
    "    elif command[i].startswith(\"u\") : y = y + int(command[i].split()[1])\n",
    "    elif command[i].startswith(\"d\") : y = y - int(command[i].split()[1])\n",
    "    print(x, y)    \n",
    "[x, y]"
   ]
  },
  {
   "cell_type": "markdown",
   "metadata": {},
   "source": [
    "# Valid Paranthesis"
   ]
  },
  {
   "cell_type": "markdown",
   "metadata": {},
   "source": [
    "```\n",
    "Input        Output\n",
    "--------:    ------:\n",
    "\"()\"         True\n",
    "\"()[]{}\"     True\n",
    "\"(]\"         False\n",
    "\"([)]\"       False\n",
    "\"{[]}\"       True\n",
    "\"\"           True\n",
    "```"
   ]
  },
  {
   "cell_type": "code",
   "execution_count": 49,
   "metadata": {},
   "outputs": [
    {
     "data": {
      "text/plain": [
       "'([{({})}]({}))'"
      ]
     },
     "execution_count": 49,
     "metadata": {},
     "output_type": "execute_result"
    }
   ],
   "source": [
    "\"([{({})}]({}))\""
   ]
  },
  {
   "cell_type": "code",
   "execution_count": 50,
   "metadata": {},
   "outputs": [
    {
     "data": {
      "text/plain": [
       "'['"
      ]
     },
     "execution_count": 50,
     "metadata": {},
     "output_type": "execute_result"
    }
   ],
   "source": [
    "\"[\""
   ]
  },
  {
   "cell_type": "code",
   "execution_count": 51,
   "metadata": {},
   "outputs": [],
   "source": [
    "def isValid(s) :\n",
    "    while \"()\" in s or \"[]\" in s or \"{}\" in s :\n",
    "        s = s.replace(\"()\", \"\").replace(\"[]\", \"\").replace(\"{}\", \"\")\n",
    "    return s == \"\"\n"
   ]
  },
  {
   "cell_type": "code",
   "execution_count": 54,
   "metadata": {},
   "outputs": [
    {
     "data": {
      "text/plain": [
       "False"
      ]
     },
     "execution_count": 54,
     "metadata": {},
     "output_type": "execute_result"
    }
   ],
   "source": [
    "isValid(\"([[{({})}]({}))\")"
   ]
  },
  {
   "cell_type": "code",
   "execution_count": 55,
   "metadata": {},
   "outputs": [
    {
     "data": {
      "text/plain": [
       "'yjı(yu[[dfgf{({uy})}ıu]({}ıuı))'"
      ]
     },
     "execution_count": 55,
     "metadata": {},
     "output_type": "execute_result"
    }
   ],
   "source": [
    "\"yjı(yu[[dfgf{({uy})}ıu]({}ıuı))\""
   ]
  },
  {
   "cell_type": "code",
   "execution_count": 61,
   "metadata": {},
   "outputs": [
    {
     "name": "stdout",
     "output_type": "stream",
     "text": [
      "True\n"
     ]
    }
   ],
   "source": [
    "def isValid(s):\n",
    "    bracket_map = {\"(\": \")\", \"[\": \"]\",  \"{\": \"}\"}\n",
    "    open_par = set([\"(\", \"[\", \"{\"])\n",
    "    stack = []\n",
    "    for i in s:\n",
    "        if i in open_par:\n",
    "            stack.append(i)\n",
    "        elif stack and i == bracket_map[stack[-1]]:\n",
    "            stack.pop()\n",
    "\n",
    "    return stack == []\n",
    "\n",
    "combination = input('Write a string that contains only `(`, `)`, `{`, `}`, `[` and `]`: ')\n",
    "print(isValid(combination))"
   ]
  },
  {
   "cell_type": "markdown",
   "metadata": {},
   "source": [
    "## Building a Calculator using `dict` with `lambda` Expression"
   ]
  },
  {
   "cell_type": "code",
   "execution_count": 62,
   "metadata": {},
   "outputs": [
    {
     "data": {
      "text/plain": [
       "9"
      ]
     },
     "execution_count": 62,
     "metadata": {},
     "output_type": "execute_result"
    }
   ],
   "source": [
    "(lambda x, y : x + y)(4, 5)"
   ]
  },
  {
   "cell_type": "code",
   "execution_count": 64,
   "metadata": {},
   "outputs": [
    {
     "data": {
      "text/plain": [
       "['benim listem']"
      ]
     },
     "execution_count": 64,
     "metadata": {},
     "output_type": "execute_result"
    }
   ],
   "source": [
    "my_dict = {\"merhaba \" : \"hello\", \"bubirliste\" : [\"benim listem\"]}\n",
    "my_dict[\"bubirliste\"]"
   ]
  },
  {
   "cell_type": "code",
   "execution_count": 69,
   "metadata": {},
   "outputs": [],
   "source": [
    "calculator = {\"+\" : (lambda x, y : x + y),\n",
    "              \"-\" : (lambda x, y : x - y),\n",
    "              \"*\" : (lambda x, y : x * y),\n",
    "              \"/\" : (lambda x, y : x / y)}"
   ]
  },
  {
   "cell_type": "code",
   "execution_count": 74,
   "metadata": {},
   "outputs": [
    {
     "data": {
      "text/plain": [
       "9"
      ]
     },
     "execution_count": 74,
     "metadata": {},
     "output_type": "execute_result"
    }
   ],
   "source": [
    "işlem = input(\"sadece işlemi girin\")\n",
    "\n",
    "calculator[işlem](4, 5)"
   ]
  },
  {
   "cell_type": "code",
   "execution_count": 67,
   "metadata": {},
   "outputs": [
    {
     "data": {
      "text/plain": [
       "<function __main__.<lambda>(x, y)>"
      ]
     },
     "execution_count": 67,
     "metadata": {},
     "output_type": "execute_result"
    }
   ],
   "source": [
    "lambda x, y : x + y"
   ]
  },
  {
   "cell_type": "markdown",
   "metadata": {},
   "source": [
    "#şifre üretme algoritması\n",
    "## 3 büyük harf 3 küçük harf 2 noktalama işareti ve 3 rakam"
   ]
  },
  {
   "cell_type": "code",
   "execution_count": 75,
   "metadata": {},
   "outputs": [],
   "source": [
    "import random"
   ]
  },
  {
   "cell_type": "code",
   "execution_count": 80,
   "metadata": {},
   "outputs": [
    {
     "data": {
      "text/plain": [
       "45"
      ]
     },
     "execution_count": 80,
     "metadata": {},
     "output_type": "execute_result"
    }
   ],
   "source": [
    "random.randint(25, 48)"
   ]
  },
  {
   "cell_type": "code",
   "execution_count": 81,
   "metadata": {},
   "outputs": [
    {
     "data": {
      "text/plain": [
       "'o'"
      ]
     },
     "execution_count": 81,
     "metadata": {},
     "output_type": "execute_result"
    }
   ],
   "source": [
    "chr(111)"
   ]
  },
  {
   "cell_type": "code",
   "execution_count": 88,
   "metadata": {},
   "outputs": [
    {
     "data": {
      "text/plain": [
       "'O'"
      ]
     },
     "execution_count": 88,
     "metadata": {},
     "output_type": "execute_result"
    }
   ],
   "source": [
    "chr(random.randint(65,90))"
   ]
  },
  {
   "cell_type": "code",
   "execution_count": 95,
   "metadata": {},
   "outputs": [
    {
     "data": {
      "text/plain": [
       "'i'"
      ]
     },
     "execution_count": 95,
     "metadata": {},
     "output_type": "execute_result"
    }
   ],
   "source": [
    "chr(random.randint(97,122))"
   ]
  },
  {
   "cell_type": "code",
   "execution_count": 103,
   "metadata": {},
   "outputs": [
    {
     "data": {
      "text/plain": [
       "'5'"
      ]
     },
     "execution_count": 103,
     "metadata": {},
     "output_type": "execute_result"
    }
   ],
   "source": [
    "chr(random.randint(48,57))"
   ]
  },
  {
   "cell_type": "code",
   "execution_count": 104,
   "metadata": {},
   "outputs": [
    {
     "data": {
      "text/plain": [
       "\"'\""
      ]
     },
     "execution_count": 104,
     "metadata": {},
     "output_type": "execute_result"
    }
   ],
   "source": [
    "chr(random.randint(33,47))"
   ]
  },
  {
   "cell_type": "code",
   "execution_count": 105,
   "metadata": {},
   "outputs": [
    {
     "data": {
      "text/plain": [
       "'>'"
      ]
     },
     "execution_count": 105,
     "metadata": {},
     "output_type": "execute_result"
    }
   ],
   "source": [
    "chr(random.randint(58,64))"
   ]
  },
  {
   "cell_type": "code",
   "execution_count": 109,
   "metadata": {},
   "outputs": [
    {
     "data": {
      "text/plain": [
       "['T', 'I', 'G']"
      ]
     },
     "execution_count": 109,
     "metadata": {},
     "output_type": "execute_result"
    }
   ],
   "source": [
    "uppers = []\n",
    "for i in range(3) :\n",
    "    uppers.append(chr(random.randint(65,90)))\n",
    "uppers"
   ]
  },
  {
   "cell_type": "code",
   "execution_count": 112,
   "metadata": {},
   "outputs": [
    {
     "data": {
      "text/plain": [
       "['U', 'R', 'Y']"
      ]
     },
     "execution_count": 112,
     "metadata": {},
     "output_type": "execute_result"
    }
   ],
   "source": [
    "uppers = [chr(random.randint(65,90)) for i in range(3)] \n",
    "uppers"
   ]
  },
  {
   "cell_type": "code",
   "execution_count": 113,
   "metadata": {},
   "outputs": [
    {
     "data": {
      "text/plain": [
       "['h', 'w', 'u']"
      ]
     },
     "execution_count": 113,
     "metadata": {},
     "output_type": "execute_result"
    }
   ],
   "source": [
    "lowers = [chr(random.randint(97,122)) for i in range(3)] \n",
    "lowers"
   ]
  },
  {
   "cell_type": "code",
   "execution_count": 115,
   "metadata": {},
   "outputs": [
    {
     "data": {
      "text/plain": [
       "['6', '2', '1']"
      ]
     },
     "execution_count": 115,
     "metadata": {},
     "output_type": "execute_result"
    }
   ],
   "source": [
    "numbers = [chr(random.randint(48,57)) for i in range(3)] \n",
    "numbers"
   ]
  },
  {
   "cell_type": "code",
   "execution_count": 117,
   "metadata": {},
   "outputs": [
    {
     "data": {
      "text/plain": [
       "'?$'"
      ]
     },
     "execution_count": 117,
     "metadata": {},
     "output_type": "execute_result"
    }
   ],
   "source": [
    "chars = chr(random.randint(58,64)) + chr(random.randint(33,47))\n",
    "chars"
   ]
  },
  {
   "cell_type": "code",
   "execution_count": 119,
   "metadata": {},
   "outputs": [
    {
     "data": {
      "text/plain": [
       "'URYhwu621?$'"
      ]
     },
     "execution_count": 119,
     "metadata": {},
     "output_type": "execute_result"
    }
   ],
   "source": [
    "password = \"\".join(uppers) + \"\".join(lowers) + \"\".join(numbers) + chars\n",
    "password"
   ]
  },
  {
   "cell_type": "code",
   "execution_count": 128,
   "metadata": {},
   "outputs": [
    {
     "data": {
      "text/plain": [
       "'6YRu?Uw$2h1'"
      ]
     },
     "execution_count": 128,
     "metadata": {},
     "output_type": "execute_result"
    }
   ],
   "source": [
    "templist = list(password)\n",
    "random.shuffle(templist)\n",
    "\"\".join(templist)"
   ]
  },
  {
   "cell_type": "code",
   "execution_count": 121,
   "metadata": {},
   "outputs": [
    {
     "name": "stdout",
     "output_type": "stream",
     "text": [
      "Help on method shuffle in module random:\n",
      "\n",
      "shuffle(x, random=None) method of random.Random instance\n",
      "    Shuffle list x in place, and return None.\n",
      "    \n",
      "    Optional argument random is a 0-argument function returning a\n",
      "    random float in [0.0, 1.0); if it is the default None, the\n",
      "    standard random.random will be used.\n",
      "\n"
     ]
    }
   ],
   "source": [
    "help(random.shuffle)"
   ]
  },
  {
   "cell_type": "markdown",
   "metadata": {},
   "source": [
    "# zaman ölçme list comprehension hızını görelim"
   ]
  },
  {
   "cell_type": "code",
   "execution_count": 1,
   "metadata": {},
   "outputs": [],
   "source": [
    "from timeit import timeit"
   ]
  },
  {
   "cell_type": "code",
   "execution_count": 2,
   "metadata": {},
   "outputs": [],
   "source": [
    "def for_loop() :\n",
    "\n",
    "    result = []\n",
    "    for i in range(1000000) :\n",
    "        result.append(i)\n",
    "    return result"
   ]
  },
  {
   "cell_type": "code",
   "execution_count": 3,
   "metadata": {},
   "outputs": [],
   "source": [
    "def list_comp() :\n",
    "    return [i for i in range(1000000)]"
   ]
  },
  {
   "cell_type": "code",
   "execution_count": 4,
   "metadata": {},
   "outputs": [],
   "source": [
    "time_for = timeit(for_loop, number = 100)\n",
    "time_list_comp = timeit(list_comp, number = 100)"
   ]
  },
  {
   "cell_type": "code",
   "execution_count": 5,
   "metadata": {},
   "outputs": [
    {
     "name": "stdout",
     "output_type": "stream",
     "text": [
      "11.2026832\n",
      "7.8276383\n"
     ]
    }
   ],
   "source": [
    "print(time_for)\n",
    "print(time_list_comp)"
   ]
  },
  {
   "cell_type": "code",
   "execution_count": 6,
   "metadata": {},
   "outputs": [
    {
     "name": "stdout",
     "output_type": "stream",
     "text": [
      "list comprehension is 1.43 times faster than for loops\n"
     ]
    }
   ],
   "source": [
    "print(f\"list comprehension is {round(time_for/time_list_comp, 2)} times faster than for loops\")"
   ]
  },
  {
   "cell_type": "code",
   "execution_count": 7,
   "metadata": {},
   "outputs": [
    {
     "data": {
      "text/plain": [
       "487932562728827051853192251818304516827404325417772845240943042996188805741117114045256944178325252416732608321475648115070946795791719917367168886003228136458216545095330834551704837213339636337731408608409714535797995575820000161265893188617880666804973935334838119599722456535086799529562371999322815908049092412925543395108676851780329258683841138937349446199780208474193932291708645043401961888001892179929187830935027865949709520484960213483365280098825308106450677818733710304822586150436823289923722073169256990730930126006893812694626060699755967640951022613854375241456913382118606719324408552106758332368926174696001035629306530643991980581671571842550774416422028876104184338202595099772021127475895597315189727087267646647586802027990339378250530628298075734338494243479421000882027063174850772351212528177459065243865757181453965746061270186387862102455885739305032125766685791778364109143006565602314810372748244991767626273866589611088927635088589773509329909625721273183251530231780853535645343781731265886177654469040204180399751121641424223456373567737960054209186449747079271756001176586473885205283870901354238090036056604750488718367356628124826435206886750494186036827267461403248518475337773918015682068403036360530539149572556287574377463600214697165694342458958640783331497021640749662242611599502612994954355215575046749623100133713690448361378900344793005054863222597354226864378827113221437620352986752672725575475929838604277901243662953990708358167557731854335339130283001618634624195177829551677784178038360237710380921949038837717072352571458459432107615091313569353212735647371248929270518654167579158937559398914943014601650275920747990660481235848832340888603244813224177069455410543803005815148517330571133753551928920523691436944909659691641681119341020633136704706043871583547909725967881052543972397920039557096042129546118312545368629713385953842807410561994308065830832144467466345288104684741636225392502625927257890405482719946626771635594866796547977939105237765975985319454115138443325562918427583040129667880536977983547263138532080339696512849149691032370789129559057191337948422965103830690568376890981269700367694387878516685384908215306734771862794867529886078847092136905765077987440927486784015243447482811945013413334317319738008723344054078816885676614815023545676810780225747591462130638334193428396579776439925487028693280721341397734182356272699093588655430663520209934931751274755006780591443773438705864585140014285647557164675212939626089003299831711690762577442842010503345814055022212504497824655783092039233352570579984368576527135568840833688083251492803512185694610979548582261496456603851167480695355203107879686444255960939160431775531330007035715781214807625558106261087736567075710001410512634573337271313910729075567068808472430175369918556967626627183121662418665584643705077163356127720294434444589466780506702040775779834349878859235973951495342212452325135639832796706033960911725749488292161475744749992884806976741904536442688922202111941534621876073608100787461731351721284563089256773410285289645847579072292909182544750248306216600501466071516687087415510643884080847044931382786531887440635560043064044751754278984263655939959110086462533360738341150016577215471328037324940575248906084258746678542160559523463605306187320591271393396067762626123353428332980472024487799898509755251540760169651817256310971122305954772665065327002745826765447607449331976261075661724914305329626993053261581233968175388882956050448143115770473163690408966721356716709374177128199796558197079124836172645957471669457970007611158323024219440881955144762833684318449026585205601409171403335918279609730424586952911967676925445385504525856485221142678894391176290260695548454717180106000542585701921335838754245628236960709161168148690989388000970425657091211299165158996017751229502128756906117767275552038130833200321617185880270812964962289090887811702643482067618931196746327390131603864130917600953803226122373239232587144960896806291752173941316651214176315460122584975831361310418175649382651292829906928857425442954432078542049577687724893726667152960155279584591395570520617182078937500035435927105064855267279216535934468535062245800487480202774686671071603448541642675233280733919002370846334444022373987831797496744642614605667709841701393715403698931315710047559680470576775660153551531715870843227116950969531574766427279330519293901318202735971147089690773079667720966787775064352133890339495353182790648475024212788978122638927470316874796076667466619097521339802080872026194851900134546515181021386627021931343649531967043976409650937205558788048817237883642405071022219563918092416335108808180261928133081649108707532174844906807884712007478415239145170509810928530909057846268839858264686879480687955743009673260749663993429706771888260337484515588558708702070888975050709620764996879250972004179374055962510052654043090407036922708146281861360408776125213786140492016107062509614857832228850641917126711659114916397925051683033402437975565210694631119209271993922364924701921063517106592129051092242218067702204819965884694063156122286531463184179072895183641071150351388422025477965505857590659951258099560888390973578674220662119873870697874166015661562265891217879617656633533991537590347696504397890652940568335649753795688739567840216739367259266319495503298292983359008694373554716023850944669463307516978837555253173306957856525997564374977144163336328120063584709430470203456564311556869820529466965093023569932899672474867427861560548385689854259023766147484528237393124899974541516546156098986066203055511969608445881736427185359796447206493437296686227677088457143775561268962113651303757776359075584876223040550540828476483538302382148189436328012763226094827453794345419288633476090202557650487028919239267784510234183973912449967109186387167135545768138811977468909446060927187134685675707851096980797167093155112247684506375405913896220484631423506888211378545586114766083194728096099501261504585967758882483545105317156620064046169270081535257094086157344732394869607402090532739329598307293519966708677333694920941985463154724880329321177214093655744163216340633115053578975104271899879630026232219235807411667876128547441086647520367320314367258236102366119843592895192395551374974680067273120539009525191638865040372593183500197863566028303916075495287475553796202747024865206190282898225440064180537373528950287439764557503762794924427583125025385570190672942247009400083107891546879893853522646280211899954836884103023348536414712923030768212628079314501247521346219041940878581248759075867011417433728965638841990954498646491720886857116256114797672287446796679629991507894492278867716669615185669990097241580934008812187303200306147917646523230326161077173605297169900426372425725418570541315739852902272784008672358335805019697208963212497959894515544414346782001252082906425250526664058807151765476383421885859780208338390226184407439124801370862753958218909814132503774890485293909634221979090683840342330056454876205448470449260922359079049601906313655394294813521190098639835554223259991526876667260302390917558645645902269360309006895522183372760989473145702723158159475403408726641912496350635872498608929438627636892840415866852417836799161960153943821123157025893640666360971321526988292187147784162803315136029921544368122479283900075664468275524768362705582284628330866374682681119683303238760539530622153890800992472000503994362522452875379536205652917648297577925364407858068285341096151744512342095709014111353814905820302388419411371902623027242556075349121264076973240862495961260519917679133544662008703661620698746046442845474829977440178626093099363398000307535293441348028787952446276486208119920482809959459796068287114315477157325733678791138549005955400352352960857521337480412001681802795335049671789742246985910078125807858149003608337068414904474169434317632005612823101244151610409702563565595689345895954833368986727050473421480209290914243567119541756206133715823236373639852060372025614887107314982092449608643996926470774915616569345415574672192585407824318090748303530910949877928804549454690766439854998556464937074548588953442820938601195734840372230197958645690937997576168268600689857810586015988064651585709377579051660306772379911513309177129676220383744569324305186371707262272975650610727571142899768329451385959429217235045272823427827237858466025144969804892842707891091421817156834713612696300241601933337306925504344712840561253520246263651692038313754745876048820905635366344382787271061659042672234350510071348526694663032526748251674280541980256991957150501085468630428745253925144781656358991914075916269547411295098112000000"
      ]
     },
     "execution_count": 7,
     "metadata": {},
     "output_type": "execute_result"
    }
   ],
   "source": [
    "def test():\n",
    "    sayi = 20000\n",
    "    sayac=0\n",
    "    toplam=0\n",
    "    sayac2=0\n",
    "    liste = []\n",
    "    liste2 = []\n",
    "    bc = 0\n",
    "    carpan = 1\n",
    "    for i in range(2, (sayi + 1)):\n",
    "        sayac=0\n",
    "        for j in range(2,i):\n",
    "            if(i%j==0):\n",
    "                sayac=sayac+1\n",
    "                break\n",
    "        if(sayac==0):\n",
    "            sayac2=sayac2+1\n",
    "            liste.append(i)\n",
    "    for x in liste :\n",
    "        for y in range(1, int(sayi**0.5) + 1) :\n",
    "            c = x**y\n",
    "            if 1 < c < sayi :\n",
    "                bc = c\n",
    "        liste2.append(bc)\n",
    "    for t in liste2 :\n",
    "        carpan *=t\n",
    "\n",
    "    return carpan\n",
    "test()"
   ]
  },
  {
   "cell_type": "code",
   "execution_count": 8,
   "metadata": {},
   "outputs": [
    {
     "data": {
      "text/plain": [
       "487932562728827051853192251818304516827404325417772845240943042996188805741117114045256944178325252416732608321475648115070946795791719917367168886003228136458216545095330834551704837213339636337731408608409714535797995575820000161265893188617880666804973935334838119599722456535086799529562371999322815908049092412925543395108676851780329258683841138937349446199780208474193932291708645043401961888001892179929187830935027865949709520484960213483365280098825308106450677818733710304822586150436823289923722073169256990730930126006893812694626060699755967640951022613854375241456913382118606719324408552106758332368926174696001035629306530643991980581671571842550774416422028876104184338202595099772021127475895597315189727087267646647586802027990339378250530628298075734338494243479421000882027063174850772351212528177459065243865757181453965746061270186387862102455885739305032125766685791778364109143006565602314810372748244991767626273866589611088927635088589773509329909625721273183251530231780853535645343781731265886177654469040204180399751121641424223456373567737960054209186449747079271756001176586473885205283870901354238090036056604750488718367356628124826435206886750494186036827267461403248518475337773918015682068403036360530539149572556287574377463600214697165694342458958640783331497021640749662242611599502612994954355215575046749623100133713690448361378900344793005054863222597354226864378827113221437620352986752672725575475929838604277901243662953990708358167557731854335339130283001618634624195177829551677784178038360237710380921949038837717072352571458459432107615091313569353212735647371248929270518654167579158937559398914943014601650275920747990660481235848832340888603244813224177069455410543803005815148517330571133753551928920523691436944909659691641681119341020633136704706043871583547909725967881052543972397920039557096042129546118312545368629713385953842807410561994308065830832144467466345288104684741636225392502625927257890405482719946626771635594866796547977939105237765975985319454115138443325562918427583040129667880536977983547263138532080339696512849149691032370789129559057191337948422965103830690568376890981269700367694387878516685384908215306734771862794867529886078847092136905765077987440927486784015243447482811945013413334317319738008723344054078816885676614815023545676810780225747591462130638334193428396579776439925487028693280721341397734182356272699093588655430663520209934931751274755006780591443773438705864585140014285647557164675212939626089003299831711690762577442842010503345814055022212504497824655783092039233352570579984368576527135568840833688083251492803512185694610979548582261496456603851167480695355203107879686444255960939160431775531330007035715781214807625558106261087736567075710001410512634573337271313910729075567068808472430175369918556967626627183121662418665584643705077163356127720294434444589466780506702040775779834349878859235973951495342212452325135639832796706033960911725749488292161475744749992884806976741904536442688922202111941534621876073608100787461731351721284563089256773410285289645847579072292909182544750248306216600501466071516687087415510643884080847044931382786531887440635560043064044751754278984263655939959110086462533360738341150016577215471328037324940575248906084258746678542160559523463605306187320591271393396067762626123353428332980472024487799898509755251540760169651817256310971122305954772665065327002745826765447607449331976261075661724914305329626993053261581233968175388882956050448143115770473163690408966721356716709374177128199796558197079124836172645957471669457970007611158323024219440881955144762833684318449026585205601409171403335918279609730424586952911967676925445385504525856485221142678894391176290260695548454717180106000542585701921335838754245628236960709161168148690989388000970425657091211299165158996017751229502128756906117767275552038130833200321617185880270812964962289090887811702643482067618931196746327390131603864130917600953803226122373239232587144960896806291752173941316651214176315460122584975831361310418175649382651292829906928857425442954432078542049577687724893726667152960155279584591395570520617182078937500035435927105064855267279216535934468535062245800487480202774686671071603448541642675233280733919002370846334444022373987831797496744642614605667709841701393715403698931315710047559680470576775660153551531715870843227116950969531574766427279330519293901318202735971147089690773079667720966787775064352133890339495353182790648475024212788978122638927470316874796076667466619097521339802080872026194851900134546515181021386627021931343649531967043976409650937205558788048817237883642405071022219563918092416335108808180261928133081649108707532174844906807884712007478415239145170509810928530909057846268839858264686879480687955743009673260749663993429706771888260337484515588558708702070888975050709620764996879250972004179374055962510052654043090407036922708146281861360408776125213786140492016107062509614857832228850641917126711659114916397925051683033402437975565210694631119209271993922364924701921063517106592129051092242218067702204819965884694063156122286531463184179072895183641071150351388422025477965505857590659951258099560888390973578674220662119873870697874166015661562265891217879617656633533991537590347696504397890652940568335649753795688739567840216739367259266319495503298292983359008694373554716023850944669463307516978837555253173306957856525997564374977144163336328120063584709430470203456564311556869820529466965093023569932899672474867427861560548385689854259023766147484528237393124899974541516546156098986066203055511969608445881736427185359796447206493437296686227677088457143775561268962113651303757776359075584876223040550540828476483538302382148189436328012763226094827453794345419288633476090202557650487028919239267784510234183973912449967109186387167135545768138811977468909446060927187134685675707851096980797167093155112247684506375405913896220484631423506888211378545586114766083194728096099501261504585967758882483545105317156620064046169270081535257094086157344732394869607402090532739329598307293519966708677333694920941985463154724880329321177214093655744163216340633115053578975104271899879630026232219235807411667876128547441086647520367320314367258236102366119843592895192395551374974680067273120539009525191638865040372593183500197863566028303916075495287475553796202747024865206190282898225440064180537373528950287439764557503762794924427583125025385570190672942247009400083107891546879893853522646280211899954836884103023348536414712923030768212628079314501247521346219041940878581248759075867011417433728965638841990954498646491720886857116256114797672287446796679629991507894492278867716669615185669990097241580934008812187303200306147917646523230326161077173605297169900426372425725418570541315739852902272784008672358335805019697208963212497959894515544414346782001252082906425250526664058807151765476383421885859780208338390226184407439124801370862753958218909814132503774890485293909634221979090683840342330056454876205448470449260922359079049601906313655394294813521190098639835554223259991526876667260302390917558645645902269360309006895522183372760989473145702723158159475403408726641912496350635872498608929438627636892840415866852417836799161960153943821123157025893640666360971321526988292187147784162803315136029921544368122479283900075664468275524768362705582284628330866374682681119683303238760539530622153890800992472000503994362522452875379536205652917648297577925364407858068285341096151744512342095709014111353814905820302388419411371902623027242556075349121264076973240862495961260519917679133544662008703661620698746046442845474829977440178626093099363398000307535293441348028787952446276486208119920482809959459796068287114315477157325733678791138549005955400352352960857521337480412001681802795335049671789742246985910078125807858149003608337068414904474169434317632005612823101244151610409702563565595689345895954833368986727050473421480209290914243567119541756206133715823236373639852060372025614887107314982092449608643996926470774915616569345415574672192585407824318090748303530910949877928804549454690766439854998556464937074548588953442820938601195734840372230197958645690937997576168268600689857810586015988064651585709377579051660306772379911513309177129676220383744569324305186371707262272975650610727571142899768329451385959429217235045272823427827237858466025144969804892842707891091421817156834713612696300241601933337306925504344712840561253520246263651692038313754745876048820905635366344382787271061659042672234350510071348526694663032526748251674280541980256991957150501085468630428745253925144781656358991914075916269547411295098112000000"
      ]
     },
     "execution_count": 8,
     "metadata": {},
     "output_type": "execute_result"
    }
   ],
   "source": [
    "def smallest_number():    \n",
    "    lst = [i for i in range(1, 20001)]\n",
    "    lst2, res = [], []\n",
    "    dictt = {}\n",
    "    t = 0\n",
    "    for i in lst:\n",
    "        j = 2\n",
    "        while i > 1:\n",
    "            if i % j == 0:\n",
    "                i = i // j\n",
    "                lst2.append(j)\n",
    "            else:\n",
    "                j += 1\n",
    "        \n",
    "        dictt[lst[t]] = lst2\n",
    "        lst2 = []\n",
    "        t += 1\n",
    "\n",
    "    for k,v in dictt.items():\n",
    "        for i in v:\n",
    "            a = v.count(i)\n",
    "            while res.count(i) < a:\n",
    "                res.append(i)\n",
    "\n",
    "#     print(dictt)\n",
    "#     print(res) \n",
    "    count = 1\n",
    "    for i in res:\n",
    "        count *= i\n",
    "    return count\n",
    "\n",
    "smallest_number()"
   ]
  },
  {
   "cell_type": "code",
   "execution_count": 9,
   "metadata": {},
   "outputs": [],
   "source": [
    "dustin = timeit(smallest_number, number = 2)\n",
    "dustin\n",
    "testtime = timeit(test, number = 2)"
   ]
  },
  {
   "cell_type": "code",
   "execution_count": 10,
   "metadata": {},
   "outputs": [
    {
     "name": "stdout",
     "output_type": "stream",
     "text": [
      "13.784469799999997\n",
      "4.646630599999995\n"
     ]
    }
   ],
   "source": [
    "print(dustin)\n",
    "print(testtime)"
   ]
  },
  {
   "cell_type": "code",
   "execution_count": null,
   "metadata": {},
   "outputs": [],
   "source": []
  }
 ],
 "metadata": {
  "interpreter": {
   "hash": "d996605467dd85b0912e6d7e205c6ed4662caa3e426b5c6398f42826c47e0c00"
  },
  "kernelspec": {
   "display_name": "Python 3.10.0 64-bit",
   "name": "python3"
  },
  "language_info": {
   "codemirror_mode": {
    "name": "ipython",
    "version": 3
   },
   "file_extension": ".py",
   "mimetype": "text/x-python",
   "name": "python",
   "nbconvert_exporter": "python",
   "pygments_lexer": "ipython3",
   "version": "3.8.5"
  },
  "orig_nbformat": 4
 },
 "nbformat": 4,
 "nbformat_minor": 2
}
