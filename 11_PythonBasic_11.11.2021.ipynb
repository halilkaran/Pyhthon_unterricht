{
  "nbformat": 4,
  "nbformat_minor": 0,
  "metadata": {
    "colab": {
      "name": "session 11.ipynb",
      "provenance": []
    },
    "kernelspec": {
      "name": "python3",
      "display_name": "Python 3"
    },
    "language_info": {
      "name": "python"
    }
  },
  "cells": [
    {
      "cell_type": "code",
      "metadata": {
        "colab": {
          "base_uri": "https://localhost:8080/"
        },
        "id": "G2p5XpWI-MwD",
        "outputId": "7ec87e21-f1e6-4aaf-a14e-27c6de1d01fe"
      },
      "source": [
        "dir([])"
      ],
      "execution_count": 1,
      "outputs": [
        {
          "output_type": "execute_result",
          "data": {
            "text/plain": [
              "['__add__',\n",
              " '__class__',\n",
              " '__contains__',\n",
              " '__delattr__',\n",
              " '__delitem__',\n",
              " '__dir__',\n",
              " '__doc__',\n",
              " '__eq__',\n",
              " '__format__',\n",
              " '__ge__',\n",
              " '__getattribute__',\n",
              " '__getitem__',\n",
              " '__gt__',\n",
              " '__hash__',\n",
              " '__iadd__',\n",
              " '__imul__',\n",
              " '__init__',\n",
              " '__init_subclass__',\n",
              " '__iter__',\n",
              " '__le__',\n",
              " '__len__',\n",
              " '__lt__',\n",
              " '__mul__',\n",
              " '__ne__',\n",
              " '__new__',\n",
              " '__reduce__',\n",
              " '__reduce_ex__',\n",
              " '__repr__',\n",
              " '__reversed__',\n",
              " '__rmul__',\n",
              " '__setattr__',\n",
              " '__setitem__',\n",
              " '__sizeof__',\n",
              " '__str__',\n",
              " '__subclasshook__',\n",
              " 'append',\n",
              " 'clear',\n",
              " 'copy',\n",
              " 'count',\n",
              " 'extend',\n",
              " 'index',\n",
              " 'insert',\n",
              " 'pop',\n",
              " 'remove',\n",
              " 'reverse',\n",
              " 'sort']"
            ]
          },
          "metadata": {},
          "execution_count": 1
        }
      ]
    },
    {
      "cell_type": "code",
      "metadata": {
        "colab": {
          "base_uri": "https://localhost:8080/"
        },
        "id": "6Om5h3UB-35d",
        "outputId": "02281951-8aee-4913-9c9a-598a803f322e"
      },
      "source": [
        "left = {\"q\", \"w\", \"e\", \"r\", \"t\", \"a\", \"s\", \"d\", \"f\", \"z\", \"x\", \"c\", \"v\", \"b\"}\n",
        "right = {\"y\", \"u\", \"i\", \"o\", \"p\", \"g\", \"h\", \"j\", \"k\", \"l\", \"b\", \"n\", \"m\"}\n",
        "\n",
        "word = set(input(\"bir kelime girin : \").lower())\n",
        "\n",
        "print(bool(left & word) and bool(right & word))"
      ],
      "execution_count": 5,
      "outputs": [
        {
          "output_type": "stream",
          "name": "stdout",
          "text": [
            "bir kelime girin : tester\n",
            "False\n"
          ]
        }
      ]
    },
    {
      "cell_type": "code",
      "metadata": {
        "colab": {
          "base_uri": "https://localhost:8080/"
        },
        "id": "PwAzcyZq_tDr",
        "outputId": "ff297117-51ff-4294-f873-c4deadeae2e5"
      },
      "source": [
        "if \"0\" :\n",
        "  print(\"hello world\")\n",
        "\n",
        "print(\"print me in all cases\")"
      ],
      "execution_count": 9,
      "outputs": [
        {
          "output_type": "stream",
          "name": "stdout",
          "text": [
            "hello world\n",
            "print me in all cases\n"
          ]
        }
      ]
    },
    {
      "cell_type": "code",
      "metadata": {
        "colab": {
          "base_uri": "https://localhost:8080/"
        },
        "id": "dqutrxi1BNwt",
        "outputId": "89ffc795-73bb-4d08-e3f9-fc6add99f5ad"
      },
      "source": [
        "bool(\"0\")"
      ],
      "execution_count": 10,
      "outputs": [
        {
          "output_type": "execute_result",
          "data": {
            "text/plain": [
              "True"
            ]
          },
          "metadata": {},
          "execution_count": 10
        }
      ]
    },
    {
      "cell_type": "code",
      "metadata": {
        "colab": {
          "base_uri": "https://localhost:8080/"
        },
        "id": "bNnhyVyBBaNS",
        "outputId": "51d5622a-bb00-4bf4-edd3-3be109232043"
      },
      "source": [
        "if 1 :\n",
        "  print(\"clarusway\")"
      ],
      "execution_count": 11,
      "outputs": [
        {
          "output_type": "stream",
          "name": "stdout",
          "text": [
            "clarusway\n"
          ]
        }
      ]
    },
    {
      "cell_type": "code",
      "metadata": {
        "id": "j301TEStBh5L"
      },
      "source": [
        "if 0 :\n",
        "  print(\"clarusway\")"
      ],
      "execution_count": 12,
      "outputs": []
    },
    {
      "cell_type": "code",
      "metadata": {
        "colab": {
          "base_uri": "https://localhost:8080/"
        },
        "id": "LFSjorUkBlYS",
        "outputId": "e2f914aa-0c62-43e3-d949-519015df756c"
      },
      "source": [
        "if [\"\"] :\n",
        "  print(\"clarusway\")"
      ],
      "execution_count": 13,
      "outputs": [
        {
          "output_type": "stream",
          "name": "stdout",
          "text": [
            "clarusway\n"
          ]
        }
      ]
    },
    {
      "cell_type": "code",
      "metadata": {
        "colab": {
          "base_uri": "https://localhost:8080/"
        },
        "id": "_NLenZndBrqP",
        "outputId": "ba5aca91-96f3-4728-b5d6-57a104c76de0"
      },
      "source": [
        "len([\"\"])"
      ],
      "execution_count": 15,
      "outputs": [
        {
          "output_type": "execute_result",
          "data": {
            "text/plain": [
              "1"
            ]
          },
          "metadata": {},
          "execution_count": 15
        }
      ]
    },
    {
      "cell_type": "code",
      "metadata": {
        "id": "NHlJ1x0gBuLd"
      },
      "source": [
        "if [] :\n",
        "  print(\"clarusway\")"
      ],
      "execution_count": 16,
      "outputs": []
    },
    {
      "cell_type": "code",
      "metadata": {
        "id": "wEwATO63B0fP"
      },
      "source": [
        "minced = True\n",
        "bread = True\n",
        "\n",
        "#green\n",
        "lettuce = True\n",
        "onion = False\n",
        "\n",
        "grocer = True"
      ],
      "execution_count": 24,
      "outputs": []
    },
    {
      "cell_type": "code",
      "metadata": {
        "id": "eS0Y9n5JCbqT"
      },
      "source": [
        "hamburger = (minced and grocer and bread) and (onion or lettuce)"
      ],
      "execution_count": 25,
      "outputs": []
    },
    {
      "cell_type": "code",
      "metadata": {
        "colab": {
          "base_uri": "https://localhost:8080/"
        },
        "id": "a0y27fNfCx3i",
        "outputId": "4113e45b-fd67-4924-cf82-8ab37e95be5c"
      },
      "source": [
        "hamburger"
      ],
      "execution_count": 27,
      "outputs": [
        {
          "output_type": "execute_result",
          "data": {
            "text/plain": [
              "True"
            ]
          },
          "metadata": {},
          "execution_count": 27
        }
      ]
    },
    {
      "cell_type": "code",
      "metadata": {
        "colab": {
          "base_uri": "https://localhost:8080/"
        },
        "id": "MuW3MdTeCzzm",
        "outputId": "c22dff55-c051-429b-96aa-e05f24a9ede1"
      },
      "source": [
        "if hamburger :\n",
        "  print(\"Bon Apepetit\")"
      ],
      "execution_count": 26,
      "outputs": [
        {
          "output_type": "stream",
          "name": "stdout",
          "text": [
            "Bon Apepetit\n"
          ]
        }
      ]
    },
    {
      "cell_type": "code",
      "metadata": {
        "colab": {
          "base_uri": "https://localhost:8080/"
        },
        "id": "G3fxvf6IDDJq",
        "outputId": "e2965c45-b606-471e-84f2-b0e1f2e3680d"
      },
      "source": [
        "1 == 1.0"
      ],
      "execution_count": 28,
      "outputs": [
        {
          "output_type": "execute_result",
          "data": {
            "text/plain": [
              "True"
            ]
          },
          "metadata": {},
          "execution_count": 28
        }
      ]
    },
    {
      "cell_type": "code",
      "metadata": {
        "colab": {
          "base_uri": "https://localhost:8080/"
        },
        "id": "X52YvkDVES92",
        "outputId": "00a11111-8f3e-4c51-e560-57bada5abe34"
      },
      "source": [
        "3 > 3"
      ],
      "execution_count": 29,
      "outputs": [
        {
          "output_type": "execute_result",
          "data": {
            "text/plain": [
              "False"
            ]
          },
          "metadata": {},
          "execution_count": 29
        }
      ]
    },
    {
      "cell_type": "code",
      "metadata": {
        "colab": {
          "base_uri": "https://localhost:8080/"
        },
        "id": "igg7NYbYEX8e",
        "outputId": "5ba88ec9-e1f5-4119-fb44-8055bfb93c75"
      },
      "source": [
        "3>=3"
      ],
      "execution_count": 30,
      "outputs": [
        {
          "output_type": "execute_result",
          "data": {
            "text/plain": [
              "True"
            ]
          },
          "metadata": {},
          "execution_count": 30
        }
      ]
    },
    {
      "cell_type": "code",
      "metadata": {
        "colab": {
          "base_uri": "https://localhost:8080/"
        },
        "id": "bJzYP5ZWEaC8",
        "outputId": "99f709f4-0f29-4c5c-a6cd-3f0832499377"
      },
      "source": [
        "\"ali\" == \"Ali\""
      ],
      "execution_count": 31,
      "outputs": [
        {
          "output_type": "execute_result",
          "data": {
            "text/plain": [
              "False"
            ]
          },
          "metadata": {},
          "execution_count": 31
        }
      ]
    },
    {
      "cell_type": "code",
      "metadata": {
        "colab": {
          "base_uri": "https://localhost:8080/"
        },
        "id": "pLa-uhPhEd3S",
        "outputId": "e682790d-70c2-4c16-88a1-168621d3f3ed"
      },
      "source": [
        "\"ali\" != \"Ali\""
      ],
      "execution_count": 32,
      "outputs": [
        {
          "output_type": "execute_result",
          "data": {
            "text/plain": [
              "True"
            ]
          },
          "metadata": {},
          "execution_count": 32
        }
      ]
    },
    {
      "cell_type": "code",
      "metadata": {
        "colab": {
          "base_uri": "https://localhost:8080/"
        },
        "id": "iEFzeYNLEjDi",
        "outputId": "ecd6c113-a7d2-4dbc-faa0-6a430c3c2e37"
      },
      "source": [
        "set1 = set('TWELVE PLUS ONE')\n",
        "set2 = set('ELEVEN PLUS TWO')\n",
        "\n",
        "if set1 == set2 :\n",
        "  print(\"We are the same\")\n",
        "\n",
        "if len(set1 & set2) == len(set1) == len(set2) :\n",
        "    print(\"We are the same\")\n",
        "print(set1)\n",
        "print(set2)\n"
      ],
      "execution_count": 37,
      "outputs": [
        {
          "output_type": "stream",
          "name": "stdout",
          "text": [
            "We are the same\n",
            "We are the same\n",
            "{'V', ' ', 'O', 'E', 'W', 'T', 'L', 'N'}\n",
            "{'V', ' ', 'O', 'E', 'W', 'T', 'L', 'N'}\n"
          ]
        }
      ]
    },
    {
      "cell_type": "code",
      "metadata": {
        "colab": {
          "base_uri": "https://localhost:8080/"
        },
        "id": "joIf75oVIV2i",
        "outputId": "bb0aa4d7-b473-4854-e60a-8851750a7586"
      },
      "source": [
        "convert = input(\"Enter Yes or No : \").title().strip() == \"Yes\""
      ],
      "execution_count": 39,
      "outputs": [
        {
          "name": "stdout",
          "output_type": "stream",
          "text": [
            "Enter Yes or No : yes\n"
          ]
        }
      ]
    },
    {
      "cell_type": "code",
      "metadata": {
        "colab": {
          "base_uri": "https://localhost:8080/"
        },
        "id": "EgeiNW-EJzhA",
        "outputId": "aa6cf168-d664-443c-d3c9-aed6c0222cfb"
      },
      "source": [
        "convert"
      ],
      "execution_count": 40,
      "outputs": [
        {
          "output_type": "execute_result",
          "data": {
            "text/plain": [
              "True"
            ]
          },
          "metadata": {},
          "execution_count": 40
        }
      ]
    },
    {
      "cell_type": "code",
      "metadata": {
        "colab": {
          "base_uri": "https://localhost:8080/"
        },
        "id": "ZV1RvWCiJ7jD",
        "outputId": "ccf7a09c-c1cd-47b7-bbe2-5ec0ee38a07c"
      },
      "source": [
        "print(f\"You entered {input('Enter Yes or No : ').title().strip() == 'Yes'}\")"
      ],
      "execution_count": 44,
      "outputs": [
        {
          "output_type": "stream",
          "name": "stdout",
          "text": [
            "Enter Yes or No : yes   \n",
            "You entered True\n"
          ]
        }
      ]
    },
    {
      "cell_type": "code",
      "metadata": {
        "colab": {
          "base_uri": "https://localhost:8080/"
        },
        "id": "YrzsI1CbKWD7",
        "outputId": "57f580c5-16c7-4e5d-a742-e3b3223b6a43"
      },
      "source": [
        "print(\"You entered {}\".format(input('Enter Yes or No : ').title().strip() == 'Yes'))"
      ],
      "execution_count": 46,
      "outputs": [
        {
          "output_type": "stream",
          "name": "stdout",
          "text": [
            "Enter Yes or No : yes\n",
            "You entered True\n"
          ]
        }
      ]
    },
    {
      "cell_type": "code",
      "metadata": {
        "colab": {
          "base_uri": "https://localhost:8080/"
        },
        "id": "UmP1VPb_K9Vw",
        "outputId": "dca0e02b-47d4-41be-c7ad-eeb279d05bdb"
      },
      "source": [
        "num = int(input(\"bir sayı git : \"))\n",
        "\n",
        "if num % 2 != 0:\n",
        "  print(\"sayı tektir\")\n",
        "\n",
        "else:\n",
        "  print(\"sayı çifttir\")"
      ],
      "execution_count": 48,
      "outputs": [
        {
          "output_type": "stream",
          "name": "stdout",
          "text": [
            "bir sayı git : 7\n",
            "sayı tektir\n"
          ]
        }
      ]
    },
    {
      "cell_type": "code",
      "metadata": {
        "colab": {
          "base_uri": "https://localhost:8080/"
        },
        "id": "b0mNz5C3MpPu",
        "outputId": "af452c0d-d7c8-4601-db3f-9513ec559a1c"
      },
      "source": [
        "num = float(input(\"bir sayı gir : \"))\n",
        "\n",
        "if num > 0:\n",
        "  print(\"sayı pozitif\")\n",
        "\n",
        "else:\n",
        "  print(\"sayı negatif\")"
      ],
      "execution_count": 50,
      "outputs": [
        {
          "output_type": "stream",
          "name": "stdout",
          "text": [
            "bir sayı gir : -15\n",
            "sayı negatif\n"
          ]
        }
      ]
    },
    {
      "cell_type": "code",
      "metadata": {
        "colab": {
          "base_uri": "https://localhost:8080/"
        },
        "id": "hvj2cQQzNX2X",
        "outputId": "d0b566cd-bc74-4ca2-d41a-43ef56c6748b"
      },
      "source": [
        "num1 = float(input(\"birinci sayıyı girin : \"))\n",
        "num2 = float(input(\"ikinci sayıyı girin : \"))\n",
        "\n",
        "if num1 > num2 :\n",
        "  buyuksayı = num1\n",
        "else:\n",
        "  buyuksayı = num2\n",
        "\n",
        "print(f\"The large number is {buyuksayı}\")"
      ],
      "execution_count": 52,
      "outputs": [
        {
          "output_type": "stream",
          "name": "stdout",
          "text": [
            "birinci sayıyı girin : 77\n",
            "ikinci sayıyı girin : 11\n",
            "The large number is 77.0\n"
          ]
        }
      ]
    },
    {
      "cell_type": "code",
      "metadata": {
        "colab": {
          "base_uri": "https://localhost:8080/"
        },
        "id": "kLKVpMAPOjQP",
        "outputId": "cda05c66-3fe3-4d5d-caec-bf1df32ef786"
      },
      "source": [
        "bool_value = True\n",
        "\n",
        "if bool_value :\n",
        "  print(\"Yes\")\n",
        "else:\n",
        "  print(\"No\")"
      ],
      "execution_count": 54,
      "outputs": [
        {
          "output_type": "stream",
          "name": "stdout",
          "text": [
            "Yes\n"
          ]
        }
      ]
    },
    {
      "cell_type": "code",
      "metadata": {
        "colab": {
          "base_uri": "https://localhost:8080/"
        },
        "id": "zuC5hPm3Pcrs",
        "outputId": "01825955-cace-4392-d7ca-963aeeee4dbe"
      },
      "source": [
        "if True : \n",
        "  print(\"if bloğu çalıştı\")\n",
        "\n",
        "elif True:\n",
        "  print(\"elif bloğu çalıştı\")"
      ],
      "execution_count": 56,
      "outputs": [
        {
          "output_type": "stream",
          "name": "stdout",
          "text": [
            "if bloğu çalıştı\n"
          ]
        }
      ]
    },
    {
      "cell_type": "code",
      "metadata": {
        "colab": {
          "base_uri": "https://localhost:8080/"
        },
        "id": "8ewT8M78Pszf",
        "outputId": "fee3837b-1e3f-4091-cebb-0f4b17e8fd3c"
      },
      "source": [
        "if True : \n",
        "  print(\"if bloğu çalıştı\")\n",
        "\n",
        "if True:\n",
        "  print(\"2. elif bloğu çalıştı\")"
      ],
      "execution_count": 57,
      "outputs": [
        {
          "output_type": "stream",
          "name": "stdout",
          "text": [
            "if bloğu çalıştı\n",
            "2. elif bloğu çalıştı\n"
          ]
        }
      ]
    },
    {
      "cell_type": "code",
      "metadata": {
        "colab": {
          "base_uri": "https://localhost:8080/"
        },
        "id": "CzXdrTJJRHmf",
        "outputId": "c95ad378-9bc5-4e6a-c010-4866f555b8ac"
      },
      "source": [
        "num1 = float(input(\"birinci sayı :\"))\n",
        "num2 = float(input(\"ikinci sayı :\"))\n",
        "num3 = float(input(\"üçüncü sayı :\"))\n",
        "\n",
        "if (num1 > num2) and (num1 > num3):\n",
        "  largest = num1\n",
        "\n",
        "elif (num2 > num1) and (num2 > num3):\n",
        "  largest = num2\n",
        "else:\n",
        "  largest = num3\n",
        "\n",
        "print(\"The largest number is\", largest)"
      ],
      "execution_count": 58,
      "outputs": [
        {
          "output_type": "stream",
          "name": "stdout",
          "text": [
            "birinci sayı :45\n",
            "ikinci sayı :78\n",
            "üçüncü sayı :12\n",
            "The largest number is 78.0\n"
          ]
        }
      ]
    },
    {
      "cell_type": "code",
      "metadata": {
        "colab": {
          "base_uri": "https://localhost:8080/"
        },
        "id": "KrdZoz7gWwT-",
        "outputId": "a470af75-24d1-45a8-8cc7-edfb1c31bc2e"
      },
      "source": [
        "num = float(input(\"sayı giriniz :\"))\n",
        "\n",
        "if num > 0:\n",
        "  print(\"positive number\")\n",
        "\n",
        "elif num == 0:\n",
        "  print(\"zero\")\n",
        "else:\n",
        "  print(\"negative number\")"
      ],
      "execution_count": 59,
      "outputs": [
        {
          "output_type": "stream",
          "name": "stdout",
          "text": [
            "sayı giriniz :0\n",
            "zero\n"
          ]
        }
      ]
    },
    {
      "cell_type": "code",
      "metadata": {
        "colab": {
          "base_uri": "https://localhost:8080/"
        },
        "id": "hSRYfmxLXcZY",
        "outputId": "1998e348-e02b-4fbd-9545-70ff18ca899f"
      },
      "source": [
        "score = int(input(\"notu giriniz: \"))\n",
        "\n",
        "score_letter = None\n",
        "\n",
        "if score >= 90 :\n",
        "  if score >= 95:\n",
        "    score_letter = \"A+\"\n",
        "  else:\n",
        "    score_letter =\"A\"\n",
        "\n",
        "elif score >= 80 :\n",
        "  if score >= 85 :\n",
        "    score_letter = \"B+\"\n",
        "  else:\n",
        "    score_letter = \"B\"\n",
        "\n",
        "else:\n",
        "  score_letter = \"B-\"\n",
        "\n",
        "print(\"Your degree is : \", score_letter)"
      ],
      "execution_count": 62,
      "outputs": [
        {
          "output_type": "stream",
          "name": "stdout",
          "text": [
            "notu giriniz: 80\n",
            "Your degree is :  B\n"
          ]
        }
      ]
    },
    {
      "cell_type": "code",
      "metadata": {
        "colab": {
          "base_uri": "https://localhost:8080/"
        },
        "id": "ChTuMOseZil9",
        "outputId": "42eac283-fd20-4079-e01f-0401dec2c969"
      },
      "source": [
        "score = int(input(\"notu giriniz: \"))\n",
        "\n",
        "score_letter = None\n",
        "\n",
        "if score >= 90 :\n",
        "  score_letter = \"A+\"\n",
        "  print(\"Your degree is : \", score_letter)\n",
        "\n",
        "if score >= 95:\n",
        "  score_letter = \"A+\"\n",
        "  print(\"Your degree is : \", score_letter)\n",
        "elif score >= 80 :\n",
        "  score_letter = \"B\"\n",
        "  print(\"Your degree is : \", score_letter)\n",
        "\n",
        "  \n",
        "if score >= 85 :\n",
        "  score_letter = \"B+\"\n",
        "  print(\"Your degree is : \", score_letter)\n",
        "else:\n",
        "  score_letter = \"B\"\n",
        "  print(\"Your degree is : \", score_letter)\n",
        "\n",
        "\n"
      ],
      "execution_count": 66,
      "outputs": [
        {
          "output_type": "stream",
          "name": "stdout",
          "text": [
            "notu giriniz: 96\n",
            "Your degree is :  A+\n",
            "Your degree is :  A+\n",
            "Your degree is :  B+\n"
          ]
        }
      ]
    },
    {
      "cell_type": "code",
      "metadata": {
        "id": "z2nDVTUyar89"
      },
      "source": [
        ""
      ],
      "execution_count": null,
      "outputs": []
    },
    {
      "cell_type": "markdown",
      "metadata": {
        "id": "cp6eu46bexoQ"
      },
      "source": [
        "### Problem 4\n",
        "\n",
        "Şimdi de geometrik şekil hesaplama işlemi yapalım. İlk olarak kullanıcıdan üçgenin mi dörtgenin mi tipini bulmak istediğini sorun. \n",
        "\n",
        "Eğer kullanıcı \"Dörtgen\" cevabını verirse ,  4 tane kenar isteyip bu dörtgenin kare mi , dikdörtgen mi yoksa sıradan bir dörtgen mi olduğunu bulmaya çalışın.\n",
        "\n",
        "Eğer kullanıcı \"Üçgen\" cevabını verirse ,  3 tane kenar isteyip bu üçgenin ikizkenar mı , eşkenar mı yoksa sıradan bir üçgen mi olduğunu bulmaya çalışın. Eğer verilen kenarlar bir üçgen belirtmiyorsa, ekrana \"Üçgen belirtmiyor\" şeklinde bir yazı yazın.o\n",
        "\n",
        "*Üçgen belirtme şartını bilmiyorsunuz internetten bakabilirsiniz.*\n",
        "\n",
        "*Ayrıca , bu problemde mutlak değer bulmaya ihtiyacınız olacak. Bunun için, Pythonda hazır bir fonksiyon olan abs() fonksiyonunu kullanabilirsiniz. Kullanımı şu şekildedir ;*\n",
        "\n",
        "\n",
        "\n",
        "\n"
      ]
    },
    {
      "cell_type": "code",
      "metadata": {
        "colab": {
          "base_uri": "https://localhost:8080/"
        },
        "id": "AQM9YK1hezP5",
        "outputId": "d50dce25-f3f6-4495-fe29-5cfb298edcef"
      },
      "source": [
        "şekil = input(\"hangi şeklin tipini öğrenmek istiyorsun: 'Dortgen veya Ucgen' olarak giriniz\").title().strip()\n",
        "\n",
        "if şekil == \"Dortgen\":\n",
        "  print(\"kenarları sırayla giriniz \")\n",
        "  a = int(input(\"kenar-1\"))\n",
        "  b = int(input(\"kenar-2\"))\n",
        "  c = int(input(\"kenar-3\"))\n",
        "  d = int(input(\"kenar-4\"))\n",
        "\n",
        "  if a == b == c == d :\n",
        "    print(\"kare\")\n",
        "  elif a == c and b == d:\n",
        "    print(\"dikdörtgen\")\n",
        "  else:  \n",
        "    print(\"dörtgen\")\n",
        "\n",
        "elif şekil == \"Ucgen\":\n",
        "  print(\"kenarları sırayla giriniz \")\n",
        "  a = int(input(\"kenar-1\"))\n",
        "  b = int(input(\"kenar-2\"))\n",
        "  c = int(input(\"kenar-3\"))\n",
        "  if abs(a+b) > c and a+c > b and b+c > a :\n",
        "    if a == b == c :\n",
        "      print(\"eşkenar üçgen\")\n",
        "    elif  len(set([a, b, c])) == 2:\n",
        "      print(\"ikizkenar üçgen\")\n",
        "    else:\n",
        "      print(\"çeşitkenar üçgen\")\n",
        "  else:\n",
        "    print(\"üçgen oluşturmaz\")\n",
        "else:\n",
        "  print(\"geçersiz şekil\")"
      ],
      "execution_count": 73,
      "outputs": [
        {
          "output_type": "stream",
          "name": "stdout",
          "text": [
            "hangi şeklin tipini öğrenmek istiyorsun: 'Dortgen veya Ucgen' olarak girinizwerettry\n",
            "geçersiz şekil\n"
          ]
        }
      ]
    },
    {
      "cell_type": "code",
      "metadata": {
        "colab": {
          "base_uri": "https://localhost:8080/"
        },
        "id": "wyfhYUbsmjbF",
        "outputId": "18f620dd-ff66-42ad-d312-d7e6b0bc5b12"
      },
      "source": [
        "print(\"\"\"-------------------------------------------------\n",
        "Hesap Makinesi Programına Hoşgeldiniz \n",
        "İşlemler;\n",
        "\n",
        "1. Toplama İşlemi\n",
        "\n",
        "2. Çıkarma İşlemi\n",
        "\n",
        "3. Çarpma İşlemi\n",
        "\n",
        "4. Bölme İşlemi\n",
        "-----------------------------------------------------------\n",
        "\"\"\")\n",
        "\n",
        "a = int(input(\"Birinci sayı :  \"))\n",
        "işlem = input(\"İşlem numarasını giriniz :  \")\n",
        "b = int(input(\"İkinci sayı :  \"))\n",
        "\n",
        "\n",
        "if işlem == \"1\":\n",
        "  print(f\"{a} ile {b} 'nin toplamı {a+b} dir\")\n",
        "\n",
        "elif işlem == \"2\":\n",
        "  print(f\"{a} ile {b} 'nin farkı {a-b} dir\")\n",
        "\n",
        "elif işlem == \"3\" :\n",
        "  print(f\"{a} ile {b} 'nin çarpımı {a*b} dir\")\n",
        "  \n",
        "elif işlem == \"4\" :\n",
        "  print(f\"{a} nın {b} 'ye bölümü {a/b} dir\")\n",
        "\n",
        "else:\n",
        "  print(\"Lütfen geçerli bir işlem yazınız...\")"
      ],
      "execution_count": 76,
      "outputs": [
        {
          "output_type": "stream",
          "name": "stdout",
          "text": [
            "-------------------------------------------------\n",
            "Hesap Makinesi Programına Hoşgeldiniz \n",
            "İşlemler;\n",
            "\n",
            "1. Toplama İşlemi\n",
            "\n",
            "2. Çıkarma İşlemi\n",
            "\n",
            "3. Çarpma İşlemi\n",
            "\n",
            "4. Bölme İşlemi\n",
            "-----------------------------------------------------------\n",
            "\n",
            "Birinci sayı :  44\n",
            "İşlem numarasını giriniz :  2\n",
            "İkinci sayı :  77\n",
            "44 ile 77 'nin farkı -33 dir\n"
          ]
        }
      ]
    },
    {
      "cell_type": "code",
      "metadata": {
        "colab": {
          "base_uri": "https://localhost:8080/"
        },
        "id": "Ey2Cfvq5oZJ8",
        "outputId": "020cbfcd-48e2-4206-c9ca-97b16bd41024"
      },
      "source": [
        "dir(\"\")"
      ],
      "execution_count": 79,
      "outputs": [
        {
          "output_type": "execute_result",
          "data": {
            "text/plain": [
              "['__add__',\n",
              " '__class__',\n",
              " '__contains__',\n",
              " '__delattr__',\n",
              " '__dir__',\n",
              " '__doc__',\n",
              " '__eq__',\n",
              " '__format__',\n",
              " '__ge__',\n",
              " '__getattribute__',\n",
              " '__getitem__',\n",
              " '__getnewargs__',\n",
              " '__gt__',\n",
              " '__hash__',\n",
              " '__init__',\n",
              " '__init_subclass__',\n",
              " '__iter__',\n",
              " '__le__',\n",
              " '__len__',\n",
              " '__lt__',\n",
              " '__mod__',\n",
              " '__mul__',\n",
              " '__ne__',\n",
              " '__new__',\n",
              " '__reduce__',\n",
              " '__reduce_ex__',\n",
              " '__repr__',\n",
              " '__rmod__',\n",
              " '__rmul__',\n",
              " '__setattr__',\n",
              " '__sizeof__',\n",
              " '__str__',\n",
              " '__subclasshook__',\n",
              " 'capitalize',\n",
              " 'casefold',\n",
              " 'center',\n",
              " 'count',\n",
              " 'encode',\n",
              " 'endswith',\n",
              " 'expandtabs',\n",
              " 'find',\n",
              " 'format',\n",
              " 'format_map',\n",
              " 'index',\n",
              " 'isalnum',\n",
              " 'isalpha',\n",
              " 'isascii',\n",
              " 'isdecimal',\n",
              " 'isdigit',\n",
              " 'isidentifier',\n",
              " 'islower',\n",
              " 'isnumeric',\n",
              " 'isprintable',\n",
              " 'isspace',\n",
              " 'istitle',\n",
              " 'isupper',\n",
              " 'join',\n",
              " 'ljust',\n",
              " 'lower',\n",
              " 'lstrip',\n",
              " 'maketrans',\n",
              " 'partition',\n",
              " 'replace',\n",
              " 'rfind',\n",
              " 'rindex',\n",
              " 'rjust',\n",
              " 'rpartition',\n",
              " 'rsplit',\n",
              " 'rstrip',\n",
              " 'split',\n",
              " 'splitlines',\n",
              " 'startswith',\n",
              " 'strip',\n",
              " 'swapcase',\n",
              " 'title',\n",
              " 'translate',\n",
              " 'upper',\n",
              " 'zfill']"
            ]
          },
          "metadata": {},
          "execution_count": 79
        }
      ]
    },
    {
      "cell_type": "code",
      "metadata": {
        "colab": {
          "base_uri": "https://localhost:8080/"
        },
        "id": "VnDb-DPSpFAN",
        "outputId": "88bd702a-f2bb-4673-b34b-c44208450e75"
      },
      "source": [
        "import sys\n",
        "sys.getsizeof(1)"
      ],
      "execution_count": 80,
      "outputs": [
        {
          "output_type": "execute_result",
          "data": {
            "text/plain": [
              "28"
            ]
          },
          "metadata": {},
          "execution_count": 80
        }
      ]
    },
    {
      "cell_type": "code",
      "metadata": {
        "colab": {
          "base_uri": "https://localhost:8080/"
        },
        "id": "SnRV6uLMpyxM",
        "outputId": "4d08bce4-24c7-4ac7-941d-5528cbd5c3d2"
      },
      "source": [
        "import sys\n",
        "sys.getsizeof(\"1\")"
      ],
      "execution_count": 81,
      "outputs": [
        {
          "output_type": "execute_result",
          "data": {
            "text/plain": [
              "50"
            ]
          },
          "metadata": {},
          "execution_count": 81
        }
      ]
    },
    {
      "cell_type": "code",
      "metadata": {
        "id": "CAQKn09ep2Uy"
      },
      "source": [
        ""
      ],
      "execution_count": null,
      "outputs": []
    }
  ]
}