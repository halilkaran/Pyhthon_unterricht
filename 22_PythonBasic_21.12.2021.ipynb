{
 "cells": [
  {
   "cell_type": "markdown",
   "metadata": {},
   "source": [
    "<p align=\"center\">\n",
    "<img src=\"https://docs.google.com/uc?id=14xeXxFrVRjvOoUYWn_GuyE-v84wVzrqr\" class=\"img-fluid\" alt=\"CLRWY\" width=\"600\" height=\"100\" >\n",
    "</p>"
   ]
  },
  {
   "cell_type": "markdown",
   "metadata": {},
   "source": [
    "<h1><p style=\"text-align: center; color:yellow\">Python In-Class, <br>21 December 2021</p><h1>"
   ]
  },
  {
   "cell_type": "code",
   "execution_count": 1,
   "metadata": {},
   "outputs": [],
   "source": [
    "string = \"bir dersimiz kaldı. Bugün çok hüzünlüyüm.\""
   ]
  },
  {
   "cell_type": "code",
   "execution_count": 26,
   "metadata": {},
   "outputs": [
    {
     "name": "stdout",
     "output_type": "stream",
     "text": [
      "{'b': 1, 'i': 3, 'r': 2, ' ': 5, 'd': 2, 'e': 1, 's': 1, 'm': 2, 'z': 2, 'k': 2, 'a': 1, 'l': 2, 'ı': 1, '.': 2, 'B': 1, 'u': 1, 'g': 1, 'ü': 5, 'n': 2, 'ç': 1, 'o': 1, 'h': 1, 'y': 1}\n"
     ]
    }
   ],
   "source": [
    "word_dict = {}\n",
    "for i in string :\n",
    "\n",
    "    if i in word_dict :\n",
    "        word_dict[i] += 1\n",
    "\n",
    "    else :\n",
    "        word_dict[i] = 1\n",
    "\n",
    "print(word_dict)"
   ]
  },
  {
   "cell_type": "code",
   "execution_count": 21,
   "metadata": {},
   "outputs": [
    {
     "name": "stdout",
     "output_type": "stream",
     "text": [
      "{' ': 5, 'l': 2, 'o': 1, '.': 2, 'u': 1, 'h': 1, 'ü': 5, 'n': 2, 'r': 2, 'a': 1, 's': 1, 'z': 2, 'ç': 1, 'g': 1, 'i': 3, 'ı': 1, 'b': 1, 'B': 1, 'k': 2, 'm': 2, 'y': 1, 'd': 2, 'e': 1}\n"
     ]
    }
   ],
   "source": [
    "d = {}\n",
    "\n",
    "for i in set(string) :\n",
    "    d[i] = string.count(i)\n",
    "\n",
    "print(d)"
   ]
  },
  {
   "cell_type": "code",
   "execution_count": 11,
   "metadata": {},
   "outputs": [
    {
     "name": "stdout",
     "output_type": "stream",
     "text": [
      "{'b': 1, 'i': 3, 'r': 2, ' ': 5, 'd': 2, 'e': 1, 's': 1, 'm': 2, 'z': 2, 'k': 2, 'a': 1, 'l': 2, 'ı': 1, '.': 2, 'B': 1, 'u': 1, 'g': 1, 'ü': 5, 'n': 2, 'ç': 1, 'o': 1, 'h': 1, 'y': 1}\n"
     ]
    }
   ],
   "source": [
    "print({key : string.count(key) for key in string})"
   ]
  },
  {
   "cell_type": "code",
   "execution_count": 14,
   "metadata": {},
   "outputs": [],
   "source": [
    "c = {key : string.count(key) for key in set(string)}"
   ]
  },
  {
   "cell_type": "code",
   "execution_count": 9,
   "metadata": {},
   "outputs": [
    {
     "name": "stdout",
     "output_type": "stream",
     "text": [
      "{' ': 5, 'l': 2, 'o': 1, '.': 2, 'u': 1, 'h': 1, 'ü': 5, 'n': 2, 'r': 2, 'a': 1, 's': 1, 'z': 2, 'ç': 1, 'g': 1, 'i': 3, 'ı': 1, 'b': 1, 'B': 1, 'k': 2, 'm': 2, 'y': 1, 'd': 2, 'e': 1}\n"
     ]
    }
   ],
   "source": [
    "print(c)"
   ]
  },
  {
   "cell_type": "code",
   "execution_count": 62,
   "metadata": {},
   "outputs": [],
   "source": [
    "veri = [\"a\", \"b\", True, (False, 1), {\"1\" : 2}, [1,2], {\"2\" : \"two\"}, {2, \"3\"}, \"c\", 23, 0]"
   ]
  },
  {
   "cell_type": "code",
   "execution_count": 28,
   "metadata": {},
   "outputs": [],
   "source": [
    "tipler = [\"int\", \"str\", \"bool\", \"list\", \"tuple\", \"set\", \"dict\"]"
   ]
  },
  {
   "cell_type": "code",
   "execution_count": 29,
   "metadata": {},
   "outputs": [
    {
     "data": {
      "text/plain": [
       "{'bool': 1, 'int': 2, 'str': 3}"
      ]
     },
     "execution_count": 29,
     "metadata": {},
     "output_type": "execute_result"
    }
   ],
   "source": [
    "{\"bool\" : 1, \"int\" : 2, \"str\" : 3}"
   ]
  },
  {
   "cell_type": "code",
   "execution_count": 32,
   "metadata": {},
   "outputs": [
    {
     "data": {
      "text/plain": [
       "{'int': 0, 'str': 0, 'bool': 0, 'list': 0, 'tuple': 0, 'set': 0, 'dict': 0}"
      ]
     },
     "execution_count": 32,
     "metadata": {},
     "output_type": "execute_result"
    }
   ],
   "source": [
    "{}.fromkeys(tipler, 0)"
   ]
  },
  {
   "cell_type": "code",
   "execution_count": 60,
   "metadata": {},
   "outputs": [],
   "source": [
    "toplam = {}.fromkeys(tipler, 0)"
   ]
  },
  {
   "cell_type": "code",
   "execution_count": 37,
   "metadata": {},
   "outputs": [
    {
     "data": {
      "text/plain": [
       "11"
      ]
     },
     "execution_count": 37,
     "metadata": {},
     "output_type": "execute_result"
    }
   ],
   "source": [
    "len(veri)"
   ]
  },
  {
   "cell_type": "code",
   "execution_count": 38,
   "metadata": {},
   "outputs": [
    {
     "data": {
      "text/plain": [
       "list"
      ]
     },
     "execution_count": 38,
     "metadata": {},
     "output_type": "execute_result"
    }
   ],
   "source": [
    "type(veri[5])"
   ]
  },
  {
   "cell_type": "code",
   "execution_count": 39,
   "metadata": {},
   "outputs": [
    {
     "data": {
      "text/plain": [
       "True"
      ]
     },
     "execution_count": 39,
     "metadata": {},
     "output_type": "execute_result"
    }
   ],
   "source": [
    "type(veri[5]) == list"
   ]
  },
  {
   "cell_type": "code",
   "execution_count": 40,
   "metadata": {},
   "outputs": [
    {
     "data": {
      "text/plain": [
       "False"
      ]
     },
     "execution_count": 40,
     "metadata": {},
     "output_type": "execute_result"
    }
   ],
   "source": [
    "type(veri[5]) == str"
   ]
  },
  {
   "cell_type": "code",
   "execution_count": 41,
   "metadata": {},
   "outputs": [
    {
     "name": "stdout",
     "output_type": "stream",
     "text": [
      "{'int': 2, 'str': 3, 'bool': 1, 'list': 1, 'tuple': 1, 'set': 1, 'dict': 2}\n"
     ]
    }
   ],
   "source": [
    "for i in veri :\n",
    "    if type(i) == int : toplam[\"int\"] += 1\n",
    "    elif type(i) == str : toplam[\"str\"] += 1\n",
    "    elif type(i) == bool : toplam[\"bool\"] += 1\n",
    "    elif type(i) == list : toplam[\"list\"] += 1\n",
    "    elif type(i) == dict : toplam[\"dict\"] += 1\n",
    "    elif type(i) == tuple : toplam[\"tuple\"] += 1\n",
    "    elif type(i) == set : toplam[\"set\"] += 1\n",
    "\n",
    "print(toplam)"
   ]
  },
  {
   "cell_type": "code",
   "execution_count": 61,
   "metadata": {},
   "outputs": [
    {
     "data": {
      "text/plain": [
       "{'int': 0, 'str': 0, 'bool': 0, 'list': 0, 'tuple': 0, 'set': 0, 'dict': 0}"
      ]
     },
     "execution_count": 61,
     "metadata": {},
     "output_type": "execute_result"
    }
   ],
   "source": [
    "toplam"
   ]
  },
  {
   "cell_type": "code",
   "execution_count": 43,
   "metadata": {},
   "outputs": [],
   "source": [
    "toplam[\"int\"] = 5"
   ]
  },
  {
   "cell_type": "code",
   "execution_count": 44,
   "metadata": {},
   "outputs": [
    {
     "data": {
      "text/plain": [
       "{'int': 5, 'str': 3, 'bool': 1, 'list': 1, 'tuple': 1, 'set': 1, 'dict': 2}"
      ]
     },
     "execution_count": 44,
     "metadata": {},
     "output_type": "execute_result"
    }
   ],
   "source": [
    "toplam"
   ]
  },
  {
   "cell_type": "code",
   "execution_count": 74,
   "metadata": {},
   "outputs": [
    {
     "data": {
      "text/plain": [
       "{'int': 3, 'str': 4, 'bool': 2, 'list': 2, 'tuple': 2, 'set': 2, 'dict': 3}"
      ]
     },
     "execution_count": 74,
     "metadata": {},
     "output_type": "execute_result"
    }
   ],
   "source": [
    "for i in veri :\n",
    "    toplam[str(type(i))[8:-2]] += 1\n",
    "\n",
    "toplam"
   ]
  },
  {
   "cell_type": "code",
   "execution_count": 71,
   "metadata": {},
   "outputs": [
    {
     "name": "stdout",
     "output_type": "stream",
     "text": [
      "str\n",
      "str\n",
      "bool\n",
      "tuple\n",
      "dict\n",
      "list\n",
      "dict\n",
      "set\n",
      "str\n",
      "int\n",
      "int\n"
     ]
    }
   ],
   "source": [
    "for i in veri :\n",
    "    print(str(type(i))[8:-2])"
   ]
  },
  {
   "cell_type": "code",
   "execution_count": 78,
   "metadata": {},
   "outputs": [
    {
     "name": "stdout",
     "output_type": "stream",
     "text": [
      "str\n",
      "str\n",
      "bool\n",
      "tuple\n",
      "dict\n",
      "list\n",
      "dict\n",
      "set\n",
      "str\n",
      "int\n",
      "int\n"
     ]
    }
   ],
   "source": [
    "for i in veri :\n",
    "    print(str(type(i))[8:-2])"
   ]
  },
  {
   "cell_type": "code",
   "execution_count": 79,
   "metadata": {},
   "outputs": [
    {
     "data": {
      "text/plain": [
       "'c:\\\\Users\\\\Python\\\\Desktop\\\\notebooks'"
      ]
     },
     "execution_count": 79,
     "metadata": {},
     "output_type": "execute_result"
    }
   ],
   "source": [
    "pwd"
   ]
  },
  {
   "cell_type": "code",
   "execution_count": 1,
   "metadata": {},
   "outputs": [
    {
     "name": "stdout",
     "output_type": "stream",
     "text": [
      "Orca is a kind of Dolphin.\n",
      "Blue W\n"
     ]
    }
   ],
   "source": [
    "sea = open(\"fishes.txt\", \"r\")\n",
    "\n",
    "print(sea.read(33))\n",
    "\n",
    "sea.close()"
   ]
  },
  {
   "cell_type": "code",
   "execution_count": 2,
   "metadata": {},
   "outputs": [
    {
     "name": "stdout",
     "output_type": "stream",
     "text": [
      "Orca is a kind of DÃ¶lphin.\n",
      "Blue \n"
     ]
    }
   ],
   "source": [
    "sea = open(\"fishes.txt\", \"r\")\n",
    "\n",
    "print(sea.read(33))\n",
    "\n",
    "sea.close()"
   ]
  },
  {
   "cell_type": "code",
   "execution_count": 16,
   "metadata": {},
   "outputs": [
    {
     "name": "stdout",
     "output_type": "stream",
     "text": [
      "Orca is a kind of Dolphin.\n",
      "Blue W\n"
     ]
    }
   ],
   "source": [
    "sea = open(\"fishes.txt\", \"r\", encoding=\"utf-8\")\n",
    "\n",
    "print(sea.read(33))\n",
    "\n",
    "sea.close()"
   ]
  },
  {
   "cell_type": "code",
   "execution_count": 23,
   "metadata": {},
   "outputs": [
    {
     "name": "stdout",
     "output_type": "stream",
     "text": [
      "Orca is a kind of Dolphin.\n",
      "\n",
      "28\n"
     ]
    }
   ],
   "source": [
    "sea = open(\"fishes.txt\", \"r\", encoding=\"utf-8\")\n",
    "\n",
    "print(sea.read(27))\n",
    "print(sea.tell())\n"
   ]
  },
  {
   "cell_type": "code",
   "execution_count": 25,
   "metadata": {},
   "outputs": [
    {
     "name": "stdout",
     "output_type": "stream",
     "text": [
      "own on earth.\n",
      "Sharks are the sister group to the Rays (batoids).\n",
      "The Tuna Fish can weigh up to 260 k\n",
      "165\n"
     ]
    }
   ],
   "source": [
    "print(sea.read(100))\n",
    "print(sea.tell())"
   ]
  },
  {
   "cell_type": "code",
   "execution_count": 28,
   "metadata": {},
   "outputs": [
    {
     "name": "stdout",
     "output_type": "stream",
     "text": [
      "I want to sing\n",
      "Like the birds sing,\n",
      "Not worrying about\n",
      "Who hears or\n",
      "What they think.\n"
     ]
    }
   ],
   "source": [
    "f = open(\"rumi.txt\", \"r\", encoding=\"utf-8\")\n",
    "print(f.read())\n",
    "f.close()"
   ]
  },
  {
   "cell_type": "code",
   "execution_count": 29,
   "metadata": {},
   "outputs": [
    {
     "name": "stdout",
     "output_type": "stream",
     "text": [
      "I want to sing\n",
      "Like the birds sing,\n",
      "\n",
      "Not worrying \n",
      "51\n",
      "\n",
      "Like the birds sing\n"
     ]
    }
   ],
   "source": [
    "f = open(\"rumi.txt\", \"r\", encoding=\"utf-8\")\n",
    "print(f.read(36))\n",
    "print(f.read(13))\n",
    "print(f.tell())\n",
    "f.seek(15)\n",
    "print(f.read(20))\n",
    "f.close()"
   ]
  },
  {
   "cell_type": "code",
   "execution_count": 33,
   "metadata": {},
   "outputs": [
    {
     "name": "stdout",
     "output_type": "stream",
     "text": [
      "Like the birds sing,\n",
      "Not worrying about\n",
      "Who hears or\n",
      "What they think.\n"
     ]
    }
   ],
   "source": [
    "f = open(\"rumi.txt\", \"r\", encoding=\"utf-8\")\n",
    "\n",
    "f.seek(16)\n",
    "print(f.read())\n",
    "f.close()"
   ]
  },
  {
   "cell_type": "code",
   "execution_count": 42,
   "metadata": {},
   "outputs": [
    {
     "name": "stdout",
     "output_type": "stream",
     "text": [
      "27\n",
      "Whale \n",
      "51\n",
      "The Tuna Fish can weigh up to 260 kg.\n",
      "\n"
     ]
    }
   ],
   "source": [
    "sea = open(\"fishes.txt\", \"r\", encoding=\"utf-8\")\n",
    "print(len(sea.readline()))\n",
    "print(sea.readline()[5:11])\n",
    "print(len(sea.readline()))\n",
    "print(sea.readline())\n",
    "\n",
    "sea.close()"
   ]
  },
  {
   "cell_type": "code",
   "execution_count": 43,
   "metadata": {},
   "outputs": [
    {
     "name": "stdout",
     "output_type": "stream",
     "text": [
      "Orca is a kin\n",
      "d of Dolphin.\n",
      "\n",
      "\n",
      "Blue Whale is\n"
     ]
    }
   ],
   "source": [
    "sea = open(\"fishes.txt\", \"r\", encoding=\"utf-8\")\n",
    "print(sea.readline(13))\n",
    "print(sea.readline(13))\n",
    "print(sea.readline(13)) #\\n\n",
    "print(sea.readline(13))\n",
    "\n",
    "sea.close()"
   ]
  },
  {
   "cell_type": "code",
   "execution_count": 44,
   "metadata": {},
   "outputs": [
    {
     "name": "stdout",
     "output_type": "stream",
     "text": [
      "Orca is a kind of Dolphin.\n",
      "\n"
     ]
    }
   ],
   "source": [
    "sea = open(\"fishes.txt\", \"r\", encoding=\"utf-8\")\n",
    "print(sea.readline(110))\n",
    "sea.close()"
   ]
  },
  {
   "cell_type": "code",
   "execution_count": 50,
   "metadata": {},
   "outputs": [
    {
     "name": "stdout",
     "output_type": "stream",
     "text": [
      "\n",
      "\n",
      "Blue Whale is the largest animal known on earth.\n",
      "\n"
     ]
    }
   ],
   "source": [
    "sea = open(\"fishes.txt\", \"r\", encoding=\"utf-8\")\n",
    "sea.seek(26)\n",
    "print(sea.readline())\n",
    "print(sea.readline())\n",
    "sea.close()"
   ]
  },
  {
   "cell_type": "code",
   "execution_count": 51,
   "metadata": {},
   "outputs": [
    {
     "name": "stdout",
     "output_type": "stream",
     "text": [
      "I want to sing\n",
      "\n",
      "Like the birds sing,\n",
      "\n",
      "Not worrying about\n"
     ]
    }
   ],
   "source": [
    "f = open(\"rumi.txt\", \"r\", encoding=\"utf-8\")\n",
    "\n",
    "print(f.readline())\n",
    "print(f.readline())\n",
    "print(f.readline(18))\n",
    "f.close()"
   ]
  },
  {
   "cell_type": "code",
   "execution_count": 52,
   "metadata": {},
   "outputs": [
    {
     "name": "stdout",
     "output_type": "stream",
     "text": [
      "Orca is a kind of Dolphin.\n",
      "\n",
      "['Blue Whale is the largest animal known on earth.\\n', 'Sharks are the sister group to the Rays (batoids).\\n', 'The Tuna Fish can weigh up to 260 kg.\\n', 'Squid and Octopus are in the same class.']\n"
     ]
    }
   ],
   "source": [
    "sea = open(\"fishes.txt\", \"r\", encoding=\"utf-8\")\n",
    "\n",
    "print(sea.readline())\n",
    "print(sea.readlines())\n",
    "\n",
    "sea.close()"
   ]
  },
  {
   "cell_type": "code",
   "execution_count": 53,
   "metadata": {},
   "outputs": [
    {
     "name": "stdout",
     "output_type": "stream",
     "text": [
      "<class 'list'>\n"
     ]
    }
   ],
   "source": [
    "sea = open(\"fishes.txt\", \"r\", encoding=\"utf-8\")\n",
    "\n",
    "\n",
    "print(type(sea.readlines()))\n",
    "\n",
    "sea.close()"
   ]
  },
  {
   "cell_type": "code",
   "execution_count": 54,
   "metadata": {},
   "outputs": [
    {
     "name": "stdout",
     "output_type": "stream",
     "text": [
      "['I want to sing\\n', 'Like the birds sing,\\n', 'Not worrying about\\n', 'Who hears or\\n', 'What they think.']\n"
     ]
    }
   ],
   "source": [
    "f = open(\"rumi.txt\", \"r\", encoding=\"utf-8\")\n",
    "\n",
    "print(f.readlines())\n",
    "f.close()"
   ]
  },
  {
   "cell_type": "code",
   "execution_count": 65,
   "metadata": {},
   "outputs": [
    {
     "name": "stdout",
     "output_type": "stream",
     "text": [
      "<class '_io.TextIOWrapper'>\n",
      "Orca is a kind of Dolphin.\n",
      "\n",
      "Blue Whale is the largest animal known on earth.\n",
      "\n",
      "Sharks are the sister group to the Rays (batoids).\n",
      "\n",
      "The Tuna Fish can weigh up to 260 kg.\n",
      "\n",
      "Squid and Octopus are in the same class.\n"
     ]
    }
   ],
   "source": [
    "sea = open(\"fishes.txt\", \"r\", encoding = \"utf 8\")\n",
    "print(type(sea))\n",
    "for i in sea:\n",
    "\n",
    "    print(i)\n",
    "\n",
    "sea.close()"
   ]
  },
  {
   "cell_type": "code",
   "execution_count": 63,
   "metadata": {},
   "outputs": [
    {
     "name": "stdout",
     "output_type": "stream",
     "text": [
      "['Orca is a kind of Dolphin.\\n', 'Blue Whale is the largest animal known on earth.\\n', 'Sharks are the sister group to the Rays (batoids).\\n', 'The Tuna Fish can weigh up to 260 kg.\\n', 'Squid and Octopus are in the same class.']\n",
      "\n"
     ]
    }
   ],
   "source": [
    "sea = open(\"fishes.txt\", \"r\", encoding = \"utf 8\")\n",
    "\n",
    "print(list(sea))\n",
    "print(sea.readline())\n",
    "sea.close()"
   ]
  },
  {
   "cell_type": "code",
   "execution_count": 64,
   "metadata": {},
   "outputs": [
    {
     "name": "stdout",
     "output_type": "stream",
     "text": [
      "['Orca is a kind of Dolphin.\\n', 'Blue Whale is the largest animal known on earth.\\n', 'Sharks are the sister group to the Rays (batoids).\\n', 'The Tuna Fish can weigh up to 260 kg.\\n', 'Squid and Octopus are in the same class.']\n",
      "\n"
     ]
    }
   ],
   "source": [
    "sea = open(\"fishes.txt\", \"r\", encoding = \"utf 8\")\n",
    "\n",
    "print(sea.readlines())\n",
    "print(sea.readline())\n",
    "sea.close()"
   ]
  },
  {
   "cell_type": "code",
   "execution_count": null,
   "metadata": {},
   "outputs": [],
   "source": []
  },
  {
   "cell_type": "code",
   "execution_count": 67,
   "metadata": {},
   "outputs": [
    {
     "name": "stdout",
     "output_type": "stream",
     "text": [
      "Orca is a kind of Dolphin.\n",
      "Blue Whale is the largest animal known on earth.\n",
      "Sharks are the sister group to the Rays (batoids).\n",
      "The Tuna Fish can weigh up to 260 kg.\n",
      "Squid and Octopus are in the same class.\n"
     ]
    }
   ],
   "source": [
    "with open(\"fishes.txt\", \"r\", encoding=\"utf 8\") as sea :\n",
    "    print(sea.read())"
   ]
  },
  {
   "cell_type": "code",
   "execution_count": 71,
   "metadata": {},
   "outputs": [
    {
     "name": "stdout",
     "output_type": "stream",
     "text": [
      "This is  second the first line\n"
     ]
    }
   ],
   "source": [
    "with open(\"dummy_file.txt\", \"w\", encoding=\"utf-8\") as file :\n",
    "    file.write(\"This is  second the first line\")\n",
    "\n",
    "with open(\"dummy_file.txt\", \"r\", encoding=\"utf-8\") as file :\n",
    "    print(file.read())"
   ]
  },
  {
   "cell_type": "code",
   "execution_count": 73,
   "metadata": {},
   "outputs": [
    {
     "name": "stdout",
     "output_type": "stream",
     "text": [
      "jasmine\n",
      "\n",
      "rose\n",
      "\n",
      "lily\n",
      "\n",
      "daisy\n",
      "\n",
      "tulip\n",
      "\n",
      "\n"
     ]
    }
   ],
   "source": [
    "flowers = [\"jasmine\", \"rose\", \"lily\", \"daisy\",\"tulip\"]\n",
    "\n",
    "with open(\"flowers.txt\",\"w\",encoding=\"utf 8\") as file :\n",
    "    for i in flowers :\n",
    "        file.write(i + \"\\n\\n\")\n",
    "\n",
    "with open(\"flowers.txt\",\"r\",encoding=\"utf 8\") as file :\n",
    "    print(file.read())"
   ]
  },
  {
   "cell_type": "code",
   "execution_count": 75,
   "metadata": {},
   "outputs": [
    {
     "data": {
      "text/plain": [
       "['jasmine\\n', 'rose\\n', 'lily\\n', 'daisy\\n', 'tulip']"
      ]
     },
     "execution_count": 75,
     "metadata": {},
     "output_type": "execute_result"
    }
   ],
   "source": [
    "flowers = [\"jasmine\\n\", \"rose\\n\", \"lily\\n\", \"daisy\\n\",\"tulip\"]\n",
    "flowers"
   ]
  },
  {
   "cell_type": "code",
   "execution_count": 76,
   "metadata": {},
   "outputs": [
    {
     "name": "stdout",
     "output_type": "stream",
     "text": [
      "jasmine\n",
      "rose\n",
      "lily\n",
      "daisy\n",
      "tulip\n"
     ]
    }
   ],
   "source": [
    "with open(\"flowers.txt\",\"w\",encoding=\"utf 8\") as file :\n",
    "    file.writelines(flowers)\n",
    "\n",
    "with open(\"flowers.txt\",\"r\",encoding=\"utf 8\") as file :\n",
    "    print(file.read())"
   ]
  },
  {
   "cell_type": "code",
   "execution_count": 78,
   "metadata": {},
   "outputs": [
    {
     "name": "stdout",
     "output_type": "stream",
     "text": [
      "jasmine\n",
      "rose\n",
      "lily\n",
      "daisy\n",
      "tulip\n"
     ]
    }
   ],
   "source": [
    "flowers = (\"jasmine\\n\", \"rose\\n\", \"lily\\n\", \"daisy\\n\",\"tulip\")\n",
    "with open(\"flowers.txt\",\"w\",encoding=\"utf 8\") as file :\n",
    "    file.writelines(flowers)\n",
    "\n",
    "with open(\"flowers.txt\",\"r\",encoding=\"utf 8\") as file :\n",
    "    print(file.read())"
   ]
  },
  {
   "cell_type": "code",
   "execution_count": 80,
   "metadata": {},
   "outputs": [
    {
     "name": "stdout",
     "output_type": "stream",
     "text": [
      "jasmine\n",
      "rose\n",
      "lily\n",
      "daisy\n",
      "tulip\n",
      "melon\n"
     ]
    }
   ],
   "source": [
    "with open(\"flowers.txt\",\"a\",encoding=\"utf 8\") as file :\n",
    "    file.write(\"\\nmelon\")\n",
    "\n",
    "with open(\"flowers.txt\",\"r\",encoding=\"utf 8\") as file :\n",
    "    print(file.read())"
   ]
  },
  {
   "cell_type": "code",
   "execution_count": 81,
   "metadata": {},
   "outputs": [
    {
     "name": "stdout",
     "output_type": "stream",
     "text": [
      "jasmine\n",
      "rose\n",
      "lily\n",
      "daisy\n",
      "tulip\n",
      "melon\n",
      "lotus\n"
     ]
    }
   ],
   "source": [
    "with open(\"flowers.txt\",\"a\",encoding=\"utf 8\") as file :\n",
    "    file.write(\"\\nlotus\")\n",
    "\n",
    "with open(\"flowers.txt\",\"r\",encoding=\"utf 8\") as file :\n",
    "    print(file.read())"
   ]
  },
  {
   "cell_type": "code",
   "execution_count": 84,
   "metadata": {},
   "outputs": [
    {
     "name": "stdout",
     "output_type": "stream",
     "text": [
      "jasmine\n",
      "rose\n",
      "lily\n",
      "daisy\n",
      "tulip\n",
      "melon\n",
      "lotus\n",
      "magnolia\n",
      "\n"
     ]
    }
   ],
   "source": [
    "with open(\"flowers.txt\",\"a\",encoding=\"utf 8\") as file :\n",
    "    file.write(\"\\nmagnolia\\n\")\n",
    "\n",
    "with open(\"flowers.txt\",\"r\",encoding=\"utf 8\") as file :\n",
    "    print(file.read())"
   ]
  },
  {
   "cell_type": "code",
   "execution_count": 85,
   "metadata": {},
   "outputs": [],
   "source": [
    "with open(\"istiklal.txt\",\"r\",encoding=\"utf 8\") as file :\n",
    "    lines = file.readlines()"
   ]
  },
  {
   "cell_type": "code",
   "execution_count": 86,
   "metadata": {},
   "outputs": [
    {
     "data": {
      "text/plain": [
       "['Korkma, sönmez bu şafaklarda yüzen al sancak;\\n',\n",
       " 'Sönmeden yurdumun üstünde tüten en son ocak.\\n',\n",
       " 'O benim milletimin yıldızıdır, parlayacak;\\n',\n",
       " 'O benimdir, o benim milletimindir ancak.\\n',\n",
       " 'Çatma, kurban olayım, çehreni ey nazlı hilal!\\n',\n",
       " 'Kahraman ırkıma bir gül! Ne bu şiddet, bu celal?\\n',\n",
       " 'Sana olmaz dökülen kanlarımız sonra helal...\\n',\n",
       " \"Hakkıdır, hakk'a tapan, milletimin istiklal!\\n\",\n",
       " 'Ben ezelden beridir hür yaşadım, hür yaşarım.\\n',\n",
       " 'Hangi çılgın bana zincir vuracakmış? Şaşarım!\\n',\n",
       " 'Kükremiş sel gibiyim, bendimi çiğner, aşarım.\\n',\n",
       " 'Yırtarım dağları, enginlere sığmam, taşarım.\\n',\n",
       " 'Garbın afakını sarmışsa çelik zırhlı duvar,\\n',\n",
       " 'Benim iman dolu göğsüm gibi serhaddim var.\\n',\n",
       " 'Ulusun, korkma! Nasıl böyle bir imanı boğar,\\n',\n",
       " \"'Medeniyet!' dediğin tek dişi kalmış canavar?\\n\",\n",
       " 'Arkadaş! Yurduma alçakları uğratma, sakın.\\n',\n",
       " 'Siper et gövdeni, dursun bu hayasızca akın.\\n',\n",
       " \"Doğacaktır sana va'dettigi günler hakk'ın...\\n\",\n",
       " 'Kim bilir, belki yarın, belki yarından da yakın.\\n',\n",
       " \"Bastığın yerleri 'toprak!' diyerek geçme, tanı:\\n\",\n",
       " 'Düşün altında binlerce kefensiz yatanı.\\n',\n",
       " 'Sen şehit oğlusun, incitme, yazıktır, atanı:\\n',\n",
       " 'Verme, dünyaları alsan da, bu cennet vatanı.\\n',\n",
       " 'Kim bu cennet vatanın uğruna olmaz ki feda?\\n',\n",
       " 'Şuheda fışkıracak toprağı sıksan, şuheda!\\n',\n",
       " 'Canı, cananı, bütün varımı alsın da hüda,\\n',\n",
       " 'Etmesin tek vatanımdan beni dünyada cüda.\\n',\n",
       " 'Ruhumun senden, ilahi, şudur ancak emeli:\\n',\n",
       " 'Değmesin mabedimin göğsüne namahrem eli.\\n',\n",
       " 'Bu ezanlar-ki şahadetleri dinin temeli,\\n',\n",
       " 'Ebedi yurdumun üstünde benim inlemeli.\\n']"
      ]
     },
     "execution_count": 86,
     "metadata": {},
     "output_type": "execute_result"
    }
   ],
   "source": [
    "lines"
   ]
  },
  {
   "cell_type": "code",
   "execution_count": 87,
   "metadata": {},
   "outputs": [
    {
     "name": "stdout",
     "output_type": "stream",
     "text": [
      "Korkma, sönmez bu şafaklarda yüzen al sancak;\n",
      "Sönmeden yurdumun üstünde tüten en son ocak.\n",
      "O benim milletimin yıldızıdır, parlayacak;\n",
      "O benimdir, o benim milletimindir ancak.\n",
      "\n",
      "Çatma, kurban olayım, çehreni ey nazlı hilal!\n",
      "Kahraman ırkıma bir gül! Ne bu şiddet, bu celal?\n",
      "Sana olmaz dökülen kanlarımız sonra helal...\n",
      "Hakkıdır, hakk'a tapan, milletimin istiklal!\n",
      "\n",
      "Ben ezelden beridir hür yaşadım, hür yaşarım.\n",
      "Hangi çılgın bana zincir vuracakmış? Şaşarım!\n",
      "Kükremiş sel gibiyim, bendimi çiğner, aşarım.\n",
      "Yırtarım dağları, enginlere sığmam, taşarım.\n",
      "\n",
      "Garbın afakını sarmışsa çelik zırhlı duvar,\n",
      "Benim iman dolu göğsüm gibi serhaddim var.\n",
      "Ulusun, korkma! Nasıl böyle bir imanı boğar,\n",
      "'Medeniyet!' dediğin tek dişi kalmış canavar?\n",
      "\n",
      "Arkadaş! Yurduma alçakları uğratma, sakın.\n",
      "Siper et gövdeni, dursun bu hayasızca akın.\n",
      "Doğacaktır sana va'dettigi günler hakk'ın...\n",
      "Kim bilir, belki yarın, belki yarından da yakın.\n",
      "\n",
      "Bastığın yerleri 'toprak!' diyerek geçme, tanı:\n",
      "Düşün altında binlerce kefensiz yatanı.\n",
      "Sen şehit oğlusun, incitme, yazıktır, atanı:\n",
      "Verme, dünyaları alsan da, bu cennet vatanı.\n",
      "\n",
      "Kim bu cennet vatanın uğruna olmaz ki feda?\n",
      "Şuheda fışkıracak toprağı sıksan, şuheda!\n",
      "Canı, cananı, bütün varımı alsın da hüda,\n",
      "Etmesin tek vatanımdan beni dünyada cüda.\n",
      "\n",
      "Ruhumun senden, ilahi, şudur ancak emeli:\n",
      "Değmesin mabedimin göğsüne namahrem eli.\n",
      "Bu ezanlar-ki şahadetleri dinin temeli,\n",
      "Ebedi yurdumun üstünde benim inlemeli.\n",
      "\n",
      "\n"
     ]
    }
   ],
   "source": [
    "counter = 0\n",
    "with open(\"istiklal.txt\",\"w\",encoding=\"utf 8\") as file :\n",
    "    for i in lines :\n",
    "        counter += 1\n",
    "        if counter % 4 == 0 :\n",
    "            file.write(i + \"\\n\")\n",
    "\n",
    "        else:\n",
    "            file.write(i)\n",
    "\n",
    "with open(\"istiklal.txt\",\"r\",encoding=\"utf 8\") as file :\n",
    "    print(file.read())"
   ]
  }
 ],
 "metadata": {
  "interpreter": {
   "hash": "d996605467dd85b0912e6d7e205c6ed4662caa3e426b5c6398f42826c47e0c00"
  },
  "kernelspec": {
   "display_name": "Python 3.10.0 64-bit",
   "name": "python3"
  },
  "language_info": {
   "codemirror_mode": {
    "name": "ipython",
    "version": 3
   },
   "file_extension": ".py",
   "mimetype": "text/x-python",
   "name": "python",
   "nbconvert_exporter": "python",
   "pygments_lexer": "ipython3",
   "version": "3.10.0"
  },
  "orig_nbformat": 4
 },
 "nbformat": 4,
 "nbformat_minor": 2
}
